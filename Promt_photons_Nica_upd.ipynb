{
 "cells": [
  {
   "cell_type": "markdown",
   "id": "e39532b8-d14b-467d-a6d8-f466debc3a13",
   "metadata": {},
   "source": [
    "Initializing staff"
   ]
  },
  {
   "cell_type": "code",
   "execution_count": 1,
   "id": "0606bba4-6a8e-42ab-9d66-0569c95bcf8f",
   "metadata": {},
   "outputs": [
    {
     "name": "stdout",
     "output_type": "stream",
     "text": [
      "Welcome to JupyROOT 6.29/01\n"
     ]
    }
   ],
   "source": [
    "import numpy as np\n",
    "import scipy.integrate as integrate\n",
    "import lhapdf\n",
    "import ROOT"
   ]
  },
  {
   "cell_type": "markdown",
   "id": "80491a62-3722-487b-a549-df4d433c5af4",
   "metadata": {},
   "source": [
    "Setting up constants"
   ]
  },
  {
   "cell_type": "code",
   "execution_count": 2,
   "id": "ea5840ff-a729-42b9-9f29-6ba1a191e711",
   "metadata": {},
   "outputs": [
    {
     "name": "stdout",
     "output_type": "stream",
     "text": [
      "0.0072992700729927005 1.3333333333333333 6 400.0\n"
     ]
    }
   ],
   "source": [
    "s_h = 27**2 # in GeV (TeV)\n",
    "p_t = [1,2,3,4]#[0.25,0.50,0.75,1.00,1.25,1.50,1.75,2.00,2.25,2.50,2.75,3.00,3.25,3.50,3.75,4.00] #GeV\n",
    "i_ = [-4,-3,-2,-1,1,2,3,4]\n",
    "j_ = [-4,-3,-1,-2,2,1,3,4]\n",
    "alpha_em=1./137\n",
    "Nc = 3\n",
    "C_F = (Nc**2-1)/(2*Nc)\n",
    "nf = 6\n",
    "const = 0.04 * pow(10, 7-3) #* np.pi * alpha_em * alpha_em\n",
    "print(alpha_em, C_F, nf, const)"
   ]
  },
  {
   "cell_type": "markdown",
   "id": "f19f212d-c1b4-45f5-b874-c151cf2ce45d",
   "metadata": {},
   "source": [
    "Setting up pdf sets"
   ]
  },
  {
   "cell_type": "code",
   "execution_count": 3,
   "id": "56ebc908-6020-4caf-8b41-337ec31cf18c",
   "metadata": {},
   "outputs": [
    {
     "name": "stdout",
     "output_type": "stream",
     "text": [
      "LHAPDF 6.5.4 loading /home/yoren/bnl/lhapdf/LHAPDF-6.5.4/install/share/LHAPDF/NNPDF30_nlo_as_0118/NNPDF30_nlo_as_0118_0000.dat\n",
      "NNPDF30_nlo_as_0118 PDF set, member #0, version 2; LHAPDF ID = 260000\n",
      "LHAPDF 6.5.4 loading /home/yoren/bnl/lhapdf/LHAPDF-6.5.4/install/share/LHAPDF/nNNPDF30_nlo_as_0118_A2_Z1/nNNPDF30_nlo_as_0118_A2_Z1_0000.dat\n",
      "nNNPDF30_nlo_as_0118_A2_Z1 PDF set, member #0, version 1; LHAPDF ID = 30020300\n",
      "LHAPDF 6.5.4 loading /home/yoren/bnl/lhapdf/LHAPDF-6.5.4/install/share/LHAPDF/cteq6l1/cteq6l1_0000.dat\n",
      "cteq6l1 PDF set, member #0, version 4; LHAPDF ID = 10042\n",
      "LHAPDF 6.5.4 loading /home/yoren/bnl/lhapdf/LHAPDF-6.5.4/install/share/LHAPDF/nCTEQ15HIX_FullNuc_2_1/nCTEQ15HIX_FullNuc_2_1_0000.dat\n",
      "nCTEQ15HIX_FullNuc_2_1 PDF set, member #0, version 2; LHAPDF ID = 110050\n",
      "LHAPDF 6.5.4 loading /home/yoren/bnl/lhapdf/LHAPDF-6.5.4/install/share/LHAPDF/nCTEQ15HIX_FullNuc_1_1/nCTEQ15HIX_FullNuc_1_1_0000.dat\n",
      "nCTEQ15HIX_FullNuc_1_1 PDF set, member #0, version 2; LHAPDF ID = 110000\n",
      "LHAPDF 6.5.4 loading /home/yoren/bnl/lhapdf/LHAPDF-6.5.4/install/share/LHAPDF/TUJU21_nlo_2_1/TUJU21_nlo_2_1_0000.dat\n",
      "TUJU21_nlo_2_1 PDF set, member #0, version 1; LHAPDF ID = 3210100\n"
     ]
    }
   ],
   "source": [
    "pdfs = [lhapdf.mkPDF(\"NNPDF30_nlo_as_0118\", 0), lhapdf.mkPDF(\"nNNPDF30_nlo_as_0118_A2_Z1\", 0), lhapdf.mkPDF(\"cteq6l1\", 0), #NNPDF23_nlo_as_0118 nNNPDF20_nlo_as_0118_D2\n",
    "        lhapdf.mkPDF(\"nCTEQ15HIX_FullNuc_2_1\"), lhapdf.mkPDF(\"nCTEQ15HIX_FullNuc_1_1\"), lhapdf.mkPDF(\"TUJU21_nlo_2_1\")]#nNNPDF30_nlo_as_0118_A2_Z1 NNPDF30_nlo_as_0118\n",
    "#NNSFnu_D_lowQ TUJU21_nlo_1_1"
   ]
  },
  {
   "cell_type": "markdown",
   "id": "20991ec8-1be9-4fd7-9be5-51a41a496a77",
   "metadata": {},
   "source": [
    "Setting up Histos for various variables"
   ]
  },
  {
   "cell_type": "code",
   "execution_count": 4,
   "id": "c2bba8c4-6ed0-42f0-9689-57f46f4ae87b",
   "metadata": {},
   "outputs": [],
   "source": [
    "hist = ROOT.TH1D(\"hist\",\"hist\",1000,0,0.1)"
   ]
  },
  {
   "cell_type": "markdown",
   "id": "3ec2b64d-e302-4bfc-8ba6-8a9c807d7761",
   "metadata": {},
   "source": [
    "# QCD promt photon production\n",
    "Born cross-sections for $q+g\\to q+\\gamma$ and $q\\bar{q}\\to g+\\gamma$:\n",
    "\\begin{equation}\n",
    "\\frac{d\\sigma^B_{qg}}{dt} = - \\frac{1}{N_C} \\frac{\\alpha_S \\alpha_{em}}{s^2} e^2_q \\left( \\frac{\\hat{t}}{\\hat{s}} + \\frac{\\hat{s}}{\\hat{t}} \\right),~~~~~~~~~~~\n",
    "\\frac{d\\sigma^B_{qg}}{dt} = - \\frac{1}{N_C} \\frac{\\alpha_S \\alpha_{em}}{s^2} e^2_q \\left( \\frac{\\hat{u}}{\\hat{s}} + \\frac{\\hat{s}}{\\hat{u}} \\right),~~~~~~~~~~~\n",
    "\\frac{d\\sigma^B_{q\\bar{q}}}{dt} = - \\frac{2C_F}{N_C} \\frac{\\alpha_S \\alpha_{em}}{s^2} e^2_q \\left( \\frac{\\hat{u}}{\\hat{t}} + \\frac{\\hat{t}}{\\hat{u}} \\right)\n",
    "\\end{equation}\n",
    "To easily define integration limits we use:\n",
    "\\begin{equation}\n",
    "\\nu=1+\\frac{\\hat{t}}{\\hat{s}}\n",
    "\\end{equation}\n",
    "where $0<\\nu<1$. \n",
    "Factorization theorem in Leading Order (LO):\n",
    "\\begin{equation}\n",
    "E_\\gamma \\frac{d^3\\sigma}{dp^3_\\gamma}=\\frac{1}{\\pi p^4_T} \\sum_{ab}{\\int^{\\nu_{max}}_{\\nu_{min}}{d\\nu~x_1f_a(x_1,M^2)~x_2f_b(x_2,M^2)~\\nu(1-\\nu)\\hat{s} \\frac{d\\sigma^{ab}}{d\\nu} }}\n",
    "\\end{equation}\n",
    "where $\\nu_{min} \\equiv VW \\equiv p_T e^y/\\sqrt{s}$ and $\\nu_{max}\\equiv V \\equiv 1-p_T e^{-y}/\\sqrt{s}$\n",
    "Factorization theorem in next-to-Leading Order (NLO):\n",
    "\\begin{equation}\n",
    "E_\\gamma \\frac{d^3\\sigma}{dp^3_\\gamma}=\\frac{1}{\\pi p^4_T} \\sum_{ab}{\\int^{\\nu_{max}}_{\\nu_{min}}{d\\nu\\int^{1}_{\\nu_{min}/\\nu}{d\\omega~x_1f_a(x_1,M^2)~x_2f_b(x_2,M^2)~\\nu(1-\\nu)~\\omega~\\hat{s} \\frac{d\\sigma^{ab}}{d\\nu}}}}\n",
    "\\end{equation}\n",
    "where \n",
    "\\begin{equation}\n",
    "\\omega \\equiv z \\equiv \\frac{-\\hat{u}}{\\hat{s}+\\hat{t}}\n",
    "\\end{equation}\n",
    "For LO $\\omega = 1$ but for NLO it would be less due to eloss.\n",
    "\n",
    "Born cross-sections for $q+g\\to q+\\gamma$ and $q\\bar{q}\\to g+\\gamma$ on $\\nu$:\n",
    "\\begin{equation}\n",
    "\\nu(1-\\nu)\\omega \\frac{d^2\\sigma^{LO}_{qg}}{d\\nu d\\omega}=        \\frac{1}{N_C}    \\frac{\\pi \\alpha_S \\alpha_{em}}{s} e^2_q T_{gq}       \\left( 1-\\omega \\right),~~~~~~~~~~~\n",
    "\\nu(1-\\nu)\\omega \\frac{d^2\\sigma^{LO}_{q\\bar{q}}}{d\\nu d\\omega} = \\frac{2C_F}{N_C} \\frac{\\pi \\alpha_S \\alpha_{em}}{s} e^2_q T_{q\\bar{q}} \\left( 1-\\omega \\right)\n",
    "\\end{equation}\n",
    "Where \n",
    "\\begin{equation}\n",
    "T_{gq}=\\nu[1+(1-\\nu)^2],~~~~~~~~~~~T_{q\\bar{q}}=[\\nu^2+(1-\\nu)^2]\n",
    "\\end{equation}\n",
    "\n",
    "From https://arxiv.org/abs/hep-ph/9806467v1:\n",
    "\\begin{equation}\n",
    "\\nu(1-\\nu)z \\frac{d^2\\sigma^{LO}_{ij}}{d\\nu dz}= \\alpha_{em}\\alpha_S^2 e_q^2 \\left\\{ c_3^{ij} \\left[\\frac{ln(1-z)}{1-z}\\right]_+ + c_2^{ij} \\left[\\frac{1}{1-z}\\right]_+ + c_b^{ij} \\left[\\frac{1}{1-z}\\right]_+ \\cdot ln\\left(\\frac{\\mu^2}{s} \\right)  \\right\\} \\cdot T_{ij}\n",
    "\\end{equation}\n",
    "Where $ij=qg,q\\bar{q}$ and \n",
    "\\begin{equation}\n",
    "c_3^{qg}= \\frac{1}{N_C}(C_F+2N_C),~~~~~c_2^{qg}=-ln\\frac{1-\\nu}{\\nu}-C_F\\left( \\frac{3}{4N_C}-\\frac{1}{N_C}~ln^{~}\\nu \\right),~~~~~c_b^{qg}=-\\frac{C_F+N_C}{N_C}\n",
    "\\end{equation}\n",
    "\\begin{equation}\n",
    "c_3^{qq}= \\frac{2C_F}{N_C}(4C_F-N_C),~~~~~c_2^{qq}=\\frac{C_F n_f}{3N_C}-\\frac{11}{6}C_F+2C_F ln(1-\\nu)-4\\frac{C_F^2}{N_C}ln\\frac{1-\\nu}{\\nu},~~~~~~~c_b^{qq}=-\\frac{4C_F^2}{N_C}\n",
    "\\end{equation}"
   ]
  },
  {
   "cell_type": "markdown",
   "id": "14e5b8be-5cbb-4035-9a46-63ac9d295318",
   "metadata": {},
   "source": [
    "Function for LO Compton and annihilation cross-section"
   ]
  },
  {
   "cell_type": "code",
   "execution_count": 5,
   "id": "4ca2a734-845f-494a-838b-25ea3d93b033",
   "metadata": {},
   "outputs": [],
   "source": [
    "def compton_anih_crossection(nu, y, p, nu_min, nu_max, iset1, iset2, isospin1, isospin2):\n",
    "  \n",
    "    x_1 = nu_min/nu\n",
    "    x_2 = (1-nu_max)/(1-nu)\n",
    "    \n",
    "    s = x_1*x_2*s_h\n",
    "\n",
    "    if 1 - 4*(p)**2/s < 0: return 0\n",
    "    \n",
    "    cos_theta = np.sqrt(1 - 4*(p)**2/s)\n",
    "    u = (-1*s/2)*(1 + cos_theta)\n",
    "    t = (-1*s/2)*(1 - cos_theta)\n",
    "    Q2 = p**2#-t\n",
    "        \n",
    "    pdf1 = pdfs[iset1]\n",
    "    pdf2 = pdfs[iset2]\n",
    "    alpha_s = 0.5*(pdf1.alphasQ2(Q2)+pdf2.alphasQ2(Q2))\n",
    "\n",
    "\n",
    "    sigma=0.\n",
    "    for iquark in range(len(i_)):\n",
    "        i1, i2 = i_[iquark], i_[iquark]\n",
    "        if isospin1==1: i1 = j_[iquark]\n",
    "        if isospin2==1: i2 = j_[iquark]\n",
    "                \n",
    "        eq2 = (1. + (i_[iquark]+1)%2)**2/9.\n",
    "        \n",
    "        pdf_i = max(pdf1.xfxQ2(i1, x_1, Q2),0.)\n",
    "        pdf_j = max(pdf2.xfxQ2(21, x_2, Q2),0.)\n",
    "        pdf_k = max(pdf2.xfxQ2(-i2, x_2, Q2),0.)\n",
    "        pdf_i2 = max(pdf2.xfxQ2(i2, x_2, Q2),0.)\n",
    "        pdf_j2 = max(pdf1.xfxQ2(21, x_1, Q2),0.)\n",
    "\n",
    "        sigma_anihhil_dt = (nu**2+(1-nu)**2)*eq2*(2*C_F/Nc)\n",
    "        #sigma_compton_dt = sigma_anihhil_dt*(-s/u-u/s)/(t/u+u/t)*3/8\n",
    "        sigma_compton_dt = (1 + (1-nu)**2)*nu*eq2/Nc\n",
    "            \n",
    "        sigma += pdf_i*pdf_j*sigma_compton_dt + pdf_i2*pdf_j2*sigma_compton_dt\n",
    "        sigma += pdf_i*pdf_k*sigma_anihhil_dt\n",
    "            \n",
    "    sigma *= alpha_s*alpha_em/p**4\n",
    "    return  sigma*const"
   ]
  },
  {
   "cell_type": "markdown",
   "id": "4fc55287-ac69-4196-8311-7e0fbd9cd643",
   "metadata": {},
   "source": [
    "Secondary Function for NLO Compton and annihilation cross-section"
   ]
  },
  {
   "cell_type": "code",
   "execution_count": 6,
   "id": "171b8f5b-e51f-41a6-ae9e-9b3de6eccd66",
   "metadata": {},
   "outputs": [],
   "source": [
    "def Tij(nu, scat):\n",
    "    if scat==0:\n",
    "        return (1 + (1-nu)**2)*nu\n",
    "    return nu**2+(1-nu)**2\n",
    "\n",
    "c3=[(C_F+2*Nc)/Nc, 2*C_F/Nc*(4*C_F-Nc)]\n",
    "cb=[-(C_F+Nc)/Nc, -4*C_F**2/Nc]\n",
    "\n",
    "def c2(nu, scat):\n",
    "    if scat==0:\n",
    "        return -np.log((1-nu)/nu)-C_F*(3./4/Nc-np.log(nu)/Nc)\n",
    "    return C_F*nf/3/Nc-11./6*C_F+2*C_F*np.log(1-nu)-4*C_F**2/Nc*np.log((1-nu)/nu)\n"
   ]
  },
  {
   "cell_type": "markdown",
   "id": "925f7538-f931-4f52-8c7e-c53b5fb99294",
   "metadata": {},
   "source": [
    "Main Function for NLO Compton and annihilation cross-section"
   ]
  },
  {
   "cell_type": "code",
   "execution_count": 7,
   "id": "9434ad17-7e3b-4ad0-bc35-85a73eacaa07",
   "metadata": {},
   "outputs": [],
   "source": [
    "def nlo_compton_anih_crossection(z, nu, y, p, nu_min, nu_max, iset1, iset2, isospin1, isospin2):\n",
    "  \n",
    "    x_1 = nu_min/nu/z\n",
    "    x_2 = (1-nu_max)/(1-nu)\n",
    "    x_1z = nu_min/nu\n",
    "    #if x_1 > 1 or x_2 >1 or x_1z>1: return 0\n",
    "    \n",
    "    s = x_1*x_2*s_h\n",
    "    Q2 = p**2#-t\n",
    "        \n",
    "    pdf1 = pdfs[iset1]\n",
    "    pdf2 = pdfs[iset2]\n",
    "    alpha_s = 0.5*(pdf1.alphasQ2(Q2)+pdf2.alphasQ2(Q2))\n",
    "\n",
    "    sigma=0.\n",
    "    TT = [Tij(nu,0)/Nc, Tij(nu,1)*(2*C_F/Nc)]\n",
    "\n",
    "    pdf_j = max(pdf2.xfxQ2(21, x_2, Q2),0.)\n",
    "    pdf_j2 = max(pdf1.xfxQ2(21, x_1, Q2),0.)\n",
    "    pdf_j2_z = max(pdf1.xfxQ2(21, x_1z, Q2),0.)\n",
    "\n",
    "    corr0 = alpha_s*(c3[0]*np.log(1-z)/(1-z)+(c2(nu,0) + cb[0] * np.log(Q2/s)) /(1-z))\n",
    "    corr1 = alpha_s*(c3[1]*np.log(1-z)/(1-z)+(c2(nu,1) + cb[1] * np.log(Q2/s)) /(1-z))\n",
    "    \n",
    "    for iquark in range(len(i_)):\n",
    "        i1, i2 = i_[iquark], i_[iquark]\n",
    "        if isospin1==1: i1 = j_[iquark]\n",
    "        if isospin2==1: i2 = j_[iquark]\n",
    "                \n",
    "        eq2 = (1. + (i_[iquark]+1)%2)**2/9.\n",
    "        \n",
    "        pdf_i = max(pdf1.xfxQ2(i1, x_1, Q2),0.)\n",
    "        pdf_i_z = max(pdf1.xfxQ2(i1, x_1z, Q2),0.)\n",
    "        pdf_k = max(pdf2.xfxQ2(-i2, x_2, Q2),0.)\n",
    "        pdf_i2 = max(pdf2.xfxQ2(i2, x_2, Q2),0.)\n",
    "\n",
    "        sigma_compton_dt = eq2*TT[0]*((pdf_i-pdf_i_z)*pdf_j+pdf_i2*(pdf_j2-pdf_j2_z))*corr0\n",
    "        sigma_anihhil_dt = eq2*TT[1]*(pdf_i-pdf_i_z)*pdf_k*corr1\n",
    "        \n",
    "        sigma += sigma_compton_dt + sigma_anihhil_dt\n",
    "            \n",
    "    sigma *= alpha_s*alpha_em/p**4\n",
    "    return  sigma*const"
   ]
  },
  {
   "cell_type": "markdown",
   "id": "07e112ca-34a8-4334-8eee-6653b475bce8",
   "metadata": {},
   "source": [
    "Integration function"
   ]
  },
  {
   "cell_type": "code",
   "execution_count": 8,
   "id": "b18c0b8c-ea7e-4111-b962-6eb921d2c30c",
   "metadata": {},
   "outputs": [],
   "source": [
    "def integration_cs(y, pT, iset1, iset2, isospin1, isospin2):\n",
    "    \n",
    "    result=[]\n",
    "    for p in pT:\n",
    "        nu_min = p*np.exp(y)/np.sqrt(s_h)\n",
    "        nu_max = 1-p*np.exp(-y)/np.sqrt(s_h)\n",
    "        integral = integrate.quad(compton_anih_crossection, nu_min, nu_max, args=(y, p, nu_min, nu_max, iset1, iset2, isospin1, isospin2), epsrel=0.01)\n",
    "    \n",
    "        \n",
    "        result.append(integral)   \n",
    "                \n",
    "    return result"
   ]
  },
  {
   "cell_type": "markdown",
   "id": "1933524a-ccb3-4e3f-a246-5cd08f73df44",
   "metadata": {},
   "source": [
    "$p_T$"
   ]
  },
  {
   "cell_type": "code",
   "execution_count": 9,
   "id": "1e95bbf4-401f-4225-ae02-3dfb75fefa7d",
   "metadata": {},
   "outputs": [
    {
     "name": "stdout",
     "output_type": "stream",
     "text": [
      "[0.5, 1.0, 1.5, 2.0, 2.5, 3.0, 3.5, 4.0, 4.5, 5.0]\n"
     ]
    }
   ],
   "source": [
    "pT=[0.5+0.5*i for i in range(10)]\n",
    "print(pT)"
   ]
  },
  {
   "cell_type": "code",
   "execution_count": 10,
   "id": "54831cba-cb78-4c2f-9d59-28f650ab98c0",
   "metadata": {},
   "outputs": [
    {
     "name": "stdout",
     "output_type": "stream",
     "text": [
      "[(0.32991470664489253, 0.0003531452985758299), (0.19155945538514763, 0.0005315055464983343), (0.03252318421494012, 0.0002641065042681958), (0.005502764138798929, 2.0866418805505493e-09), (0.0012147797375076923, 5.221533888870745e-08), (0.00031987799807873575, 4.1893239827728457e-07), (9.485887231474041e-05, 2.1795123150304515e-09), (3.0469833841164088e-05, 3.268717701092089e-10), (1.0323657069434657e-05, 9.872281628873084e-10), (3.617552543166866e-06, 6.1384245050259e-10)]\n",
      "[(0.3102911640500317, 0.0007361618271573139), (0.1758617687947583, 0.0005658718463691648), (0.029316718519580932, 1.6015515210266026e-06), (0.004879239418388509, 5.43039165089125e-08), (0.0010574105458583116, 1.8380630699660165e-08), (0.0002723036748277347, 3.6096818473288405e-08), (7.87073080820106e-05, 1.7557376880229595e-08), (2.4600704190303598e-05, 2.3467761655943283e-11), (8.114380024373858e-06, 7.282874249162622e-10), (2.7749486064504087e-06, 5.443831122981403e-10)]\n",
      "[0.9405193457593182, 0.9180531884535393, 0.901409847382464, 0.886688815896348, 0.8704545467870185, 0.8512735369836504, 0.829730589890009, 0.8073790070055642, 0.7859986020262311, 0.7670790053048331]\n",
      "0.2805870190175671\n"
     ]
    }
   ],
   "source": [
    "res_pp=integration_cs(0,pT,4,4,0,0)\n",
    "res_dd=integration_cs(0,pT,3,3,0,0)\n",
    "res=[]\n",
    "cs=0\n",
    "for i in range(len(res_pp)):\n",
    "    res.append(res_dd[i][0]/res_pp[i][0])\n",
    "    cs+=res_pp[i][0]*0.5\n",
    "print(res_pp)\n",
    "print(res_dd)\n",
    "print(res)\n",
    "print(cs)"
   ]
  },
  {
   "cell_type": "markdown",
   "id": "1793d450-854f-42bb-aaff-dc4fe272da69",
   "metadata": {},
   "source": [
    "Integration Bounds and accuracy"
   ]
  },
  {
   "cell_type": "code",
   "execution_count": 11,
   "id": "c39acf14-8dc6-43b0-8108-1c77e5657afe",
   "metadata": {},
   "outputs": [],
   "source": [
    "def inner_integral(nu, y, p, nu_min, nu_max, iset1, iset2, isospin1, isospin2):\n",
    "    \n",
    "    integral = integrate.quad(nlo_compton_anih_crossection, nu_min/nu, 1.0, args=(nu, y, p, nu_min, nu_max, iset1, iset2, isospin1, isospin2), epsrel=0.01)[0]\n",
    "    integral += compton_anih_crossection(nu, y, p, nu_min, nu_max, iset1, iset2, isospin1, isospin2)\n",
    "\n",
    "    return integral"
   ]
  },
  {
   "cell_type": "markdown",
   "id": "617a8eaa-7ebd-47a8-bf8b-9ddb2dbd4f28",
   "metadata": {},
   "source": [
    "Integration function"
   ]
  },
  {
   "cell_type": "code",
   "execution_count": 12,
   "id": "3f61c2c7-82c6-4787-b13d-9b2d39db06a7",
   "metadata": {},
   "outputs": [],
   "source": [
    "def nlo_integration_cs(y, pT, iset1, iset2, isospin1, isospin2):\n",
    "   \n",
    "    result=[]\n",
    "    for p in pT:\n",
    "        nu_min = p*np.exp(y)/np.sqrt(s_h)\n",
    "        nu_max = 1-p*np.exp(-y)/np.sqrt(s_h)\n",
    "        integral = integrate.quad(inner_integral, nu_min, nu_max, args=(y, p, nu_min, nu_max, iset1, iset2, isospin1, isospin2), epsrel=0.05)\n",
    "        \n",
    "        result.append(integral)   \n",
    "                \n",
    "    return result"
   ]
  },
  {
   "cell_type": "code",
   "execution_count": 13,
   "id": "7f41be25-855e-4d86-9439-5077ffc2fe25",
   "metadata": {},
   "outputs": [
    {
     "name": "stderr",
     "output_type": "stream",
     "text": [
      "/tmp/ipykernel_26318/3974681515.py:3: IntegrationWarning: The integral is probably divergent, or slowly convergent.\n",
      "  integral = integrate.quad(nlo_compton_anih_crossection, nu_min/nu, 1.0, args=(nu, y, p, nu_min, nu_max, iset1, iset2, isospin1, isospin2), epsrel=0.01)[0]\n"
     ]
    },
    {
     "name": "stdout",
     "output_type": "stream",
     "text": [
      "[(0.7886670682098978, 0.03043858871098943), (0.198011213013853, 0.0081230011167913), (0.028399325532709498, 0.00026060340600046967), (0.005806427181279009, 0.0001209138927031621), (0.0014436274178345298, 7.093384141509517e-05), (0.00041283735324778063, 6.689953497501715e-06), (0.0001309289859270339, 6.224188116197561e-06), (4.4789713058355154e-05, 1.280238567349982e-06), (1.6150695930894478e-05, 6.072354977424574e-07), (6.018197909622953e-06, 2.550995577839705e-07)]\n",
      "[(0.6640358762968772, 0.027162520665141437), (0.17810732057351908, 0.005470580104858435), (0.024608455946463527, 0.0007688193049807948), (0.004843577359833356, 0.00016208119519208223), (0.0011616001293515434, 4.860046004729116e-05), (0.0003202488810017236, 8.787229496507392e-06), (9.822352223775529e-05, 1.3126930822997116e-06), (3.28776929572548e-05, 6.094435427849118e-08), (1.1887725401389056e-05, 8.200571057879877e-08), (4.590738986125124e-06, 7.30486952694108e-08)]\n",
      "[0.841972364592443, 0.8994809832363311, 0.8665155064376525, 0.8341751663484116, 0.804639836429518, 0.7757265142854299, 0.7502045596877592, 0.7340456259324425, 0.7360503505393328, 0.7628095744050961]\n",
      "0.5114691931508237\n"
     ]
    }
   ],
   "source": [
    "res_pp=nlo_integration_cs(0,pT,0,0,0,0)\n",
    "res_dd=nlo_integration_cs(0,pT,1,1,0,0)\n",
    "res=[]\n",
    "cs=0\n",
    "for i in range(len(res_pp)):\n",
    "    res.append(res_dd[i][0]/res_pp[i][0])\n",
    "    cs+=res_pp[i][0]*0.5\n",
    "print(res_pp)\n",
    "print(res_dd)\n",
    "print(res)\n",
    "print(cs)"
   ]
  },
  {
   "cell_type": "markdown",
   "id": "3809e99a-1cb5-4e34-a3e0-9ba30ba3d64c",
   "metadata": {},
   "source": [
    "Parallel calculating for LO"
   ]
  },
  {
   "cell_type": "code",
   "execution_count": 14,
   "id": "620ed11c-b797-4b6d-bfda-2a8b68e4205a",
   "metadata": {
    "scrolled": true
   },
   "outputs": [],
   "source": [
    "import multiprocess as mp\n",
    "\n",
    "Ntr = 8\n",
    "pool = mp.Pool(Ntr)\n",
    "\n",
    "params=[(0,pT,0,0,0,0),(0,pT,0,0,1,0),(0,pT,0,0,0,1),(0,pT,0,0,1,1),(0,pT,1,1,0,0),(0,pT,3,3,0,0),(0,pT,4,4,0,0),(0,pT,5,5,0,0)]\n",
    "\n",
    "hist_array_lo = pool.starmap(integration_cs, params)\n",
    "    \n",
    "pool.close()   "
   ]
  },
  {
   "cell_type": "markdown",
   "id": "cdafc8c6-7805-4867-9518-16cdfffe3a91",
   "metadata": {},
   "source": [
    "Parallel calculating for NLO"
   ]
  },
  {
   "cell_type": "code",
   "execution_count": 15,
   "id": "c782a4c3-004e-455a-ae7f-f11aa3d61c50",
   "metadata": {},
   "outputs": [
    {
     "name": "stderr",
     "output_type": "stream",
     "text": [
      "/tmp/ipykernel_26318/3974681515.py:3: IntegrationWarning: The integral is probably divergent, or slowly convergent.\n",
      "  integral = integrate.quad(nlo_compton_anih_crossection, nu_min/nu, 1.0, args=(nu, y, p, nu_min, nu_max, iset1, iset2, isospin1, isospin2), epsrel=0.01)[0]\n",
      "/tmp/ipykernel_26318/3974681515.py:3: IntegrationWarning: The maximum number of subdivisions (50) has been achieved.\n",
      "  If increasing the limit yields no improvement it is advised to analyze \n",
      "  the integrand in order to determine the difficulties.  If the position of a \n",
      "  local difficulty can be determined (singularity, discontinuity) one will \n",
      "  probably gain from splitting up the interval and calling the integrator \n",
      "  on the subranges.  Perhaps a special-purpose integrator should be used.\n",
      "  integral = integrate.quad(nlo_compton_anih_crossection, nu_min/nu, 1.0, args=(nu, y, p, nu_min, nu_max, iset1, iset2, isospin1, isospin2), epsrel=0.01)[0]\n",
      "/tmp/ipykernel_26318/3974681515.py:3: IntegrationWarning: The integral is probably divergent, or slowly convergent.\n",
      "  integral = integrate.quad(nlo_compton_anih_crossection, nu_min/nu, 1.0, args=(nu, y, p, nu_min, nu_max, iset1, iset2, isospin1, isospin2), epsrel=0.01)[0]\n",
      "/tmp/ipykernel_26318/3974681515.py:3: IntegrationWarning: The integral is probably divergent, or slowly convergent.\n",
      "  integral = integrate.quad(nlo_compton_anih_crossection, nu_min/nu, 1.0, args=(nu, y, p, nu_min, nu_max, iset1, iset2, isospin1, isospin2), epsrel=0.01)[0]\n",
      "/tmp/ipykernel_26318/3974681515.py:3: IntegrationWarning: The integral is probably divergent, or slowly convergent.\n",
      "  integral = integrate.quad(nlo_compton_anih_crossection, nu_min/nu, 1.0, args=(nu, y, p, nu_min, nu_max, iset1, iset2, isospin1, isospin2), epsrel=0.01)[0]\n",
      "/tmp/ipykernel_26318/3974681515.py:3: IntegrationWarning: The integral is probably divergent, or slowly convergent.\n",
      "  integral = integrate.quad(nlo_compton_anih_crossection, nu_min/nu, 1.0, args=(nu, y, p, nu_min, nu_max, iset1, iset2, isospin1, isospin2), epsrel=0.01)[0]\n",
      "/tmp/ipykernel_26318/3974681515.py:3: IntegrationWarning: The integral is probably divergent, or slowly convergent.\n",
      "  integral = integrate.quad(nlo_compton_anih_crossection, nu_min/nu, 1.0, args=(nu, y, p, nu_min, nu_max, iset1, iset2, isospin1, isospin2), epsrel=0.01)[0]\n",
      "/tmp/ipykernel_26318/3974681515.py:3: IntegrationWarning: The integral is probably divergent, or slowly convergent.\n",
      "  integral = integrate.quad(nlo_compton_anih_crossection, nu_min/nu, 1.0, args=(nu, y, p, nu_min, nu_max, iset1, iset2, isospin1, isospin2), epsrel=0.01)[0]\n",
      "/tmp/ipykernel_26318/3974681515.py:3: IntegrationWarning: The integral is probably divergent, or slowly convergent.\n",
      "  integral = integrate.quad(nlo_compton_anih_crossection, nu_min/nu, 1.0, args=(nu, y, p, nu_min, nu_max, iset1, iset2, isospin1, isospin2), epsrel=0.01)[0]\n"
     ]
    }
   ],
   "source": [
    "pool = mp.Pool(Ntr)\n",
    "\n",
    "hist_array_nlo = pool.starmap(nlo_integration_cs, params)\n",
    "    \n",
    "pool.close()   "
   ]
  },
  {
   "cell_type": "markdown",
   "id": "4ccbb704-6945-43ee-8029-8d07405066bb",
   "metadata": {},
   "source": [
    "Factors"
   ]
  },
  {
   "cell_type": "code",
   "execution_count": 16,
   "id": "a300de9d-3b36-4699-939b-f5882dd57477",
   "metadata": {},
   "outputs": [
    {
     "name": "stdout",
     "output_type": "stream",
     "text": [
      "PT: [0.5, 1.0, 1.5, 2.0, 2.5, 3.0, 3.5, 4.0, 4.5, 5.0]\n",
      "isospin  LO: [0.96, 0.93, 0.9, 0.88, 0.86, 0.84, 0.82, 0.79, 0.77, 0.75]\n",
      "isospin NLO: [0.91, 0.93, 0.92, 0.9, 0.88, 0.86, 0.83, 0.81, 0.78, 0.76]\n",
      "nPDF  LO nNNPDF: [1.05, 0.9, 0.84, 0.81, 0.78, 0.76, 0.74, 0.74, 0.76, 0.8]\n",
      "nPDF  LO nCTEQ: [0.94, 0.92, 0.9, 0.89, 0.87, 0.85, 0.83, 0.81, 0.79, 0.77]\n",
      "nPDF  LO TUJU: [2.12, 1.24, 0.89, 0.89, 0.86, 0.83, 0.8, 0.79, 0.81, 0.86]\n",
      "nPDF NLO nNNPDF: [0.84, 0.9, 0.87, 0.83, 0.8, 0.78, 0.75, 0.73, 0.74, 0.76]\n",
      "nPDF NLO nCTEQ: [0.93, 0.93, 0.92, 0.9, 0.89, 0.87, 0.85, 0.82, 0.8, 0.78]\n",
      "nPDF NLO TUJU: [4.94, 1.6, 1.05, 0.99, 0.89, 0.77, 0.66, 0.56, 0.47, 0.41]\n",
      "NLO to LO: [1.0, 0.68, 0.72, 0.8, 0.87, 0.92, 0.96, 1.0, 1.07, 1.18]\n",
      "cross-section LO and NLO (NNPDF, CTEQ): 0.042 0.0363 0.0397 0.0343\n"
     ]
    }
   ],
   "source": [
    "print(\"PT:\",pT)\n",
    "nround = 2\n",
    "res_iso_LO=[]\n",
    "for ipt in range(len(hist_array_lo[0])):\n",
    "    res_iso_LO.append(round(0.25*(hist_array_lo[0][ipt][0]+hist_array_lo[1][ipt][0]+hist_array_lo[2][ipt][0]+hist_array_lo[3][ipt][0])/(hist_array_lo[0][ipt][0]+1e-20),nround))\n",
    "print(\"isospin  LO:\",res_iso_LO)\n",
    "\n",
    "res_iso_NLO=[]\n",
    "for ipt in range(len(hist_array_nlo[0])):\n",
    "    res_iso_NLO.append(round(0.25*(hist_array_nlo[0][ipt][0]+hist_array_nlo[1][ipt][0]+hist_array_nlo[2][ipt][0]+hist_array_nlo[3][ipt][0])/(hist_array_nlo[0][ipt][0]+1e-20),nround))\n",
    "print(\"isospin NLO:\",res_iso_NLO)\n",
    "\n",
    "res_nPDF_LO=[]\n",
    "for ipt in range(len(hist_array_lo[0])):\n",
    "    res_nPDF_LO.append(round(hist_array_lo[4][ipt][0]/(hist_array_lo[0][ipt][0]+1e-20),nround))\n",
    "print(\"nPDF  LO nNNPDF:\",res_nPDF_LO)\n",
    "\n",
    "res_nPDF_LO=[]\n",
    "for ipt in range(len(hist_array_lo[0])):\n",
    "    res_nPDF_LO.append(round(hist_array_lo[5][ipt][0]/(hist_array_lo[6][ipt][0]+1e-20),nround))\n",
    "print(\"nPDF  LO nCTEQ:\",res_nPDF_LO)\n",
    "\n",
    "res_nPDF_LO=[]\n",
    "for ipt in range(len(hist_array_lo[0])):\n",
    "    res_nPDF_LO.append(round(hist_array_lo[4][ipt][0]/(hist_array_lo[6][ipt][0]+1e-20),nround))\n",
    "print(\"nPDF  LO TUJU:\",res_nPDF_LO)\n",
    "\n",
    "res_nPDF_NLO=[]\n",
    "for ipt in range(len(hist_array_nlo[0])):\n",
    "    res_nPDF_NLO.append(round(hist_array_nlo[4][ipt][0]/(hist_array_nlo[0][ipt][0]+1e-20),nround))\n",
    "print(\"nPDF NLO nNNPDF:\", res_nPDF_NLO)\n",
    "\n",
    "res_nPDF_NLO=[]\n",
    "for ipt in range(len(hist_array_nlo[0])):\n",
    "    res_nPDF_NLO.append(round(hist_array_nlo[5][ipt][0]/(hist_array_nlo[6][ipt][0]+1e-20),nround))\n",
    "print(\"nPDF NLO nCTEQ:\", res_nPDF_NLO)\n",
    "\n",
    "res_nPDF_NLO=[]\n",
    "for ipt in range(len(hist_array_nlo[0])):\n",
    "    res_nPDF_NLO.append(round(hist_array_nlo[7][ipt][0]/(hist_array_nlo[6][ipt][0]+1e-20),nround))\n",
    "print(\"nPDF NLO TUJU:\", res_nPDF_NLO)\n",
    "\n",
    "res_NLO_LO=[]\n",
    "for ipt in range(len(hist_array_nlo[0])):\n",
    "    res_NLO_LO.append(round(hist_array_nlo[4][ipt][0]/(hist_array_lo[0][ipt][0]+1e-20),nround))\n",
    "print(\"NLO to LO:\",res_NLO_LO)\n",
    "\n",
    "cs_LO, cs_LO_1, cs_NLO, cs_NLO_1 = 0., 0., 0., 0.\n",
    "for ipt in range(2, len(pT)):\n",
    "    cs_LO  += hist_array_lo[0][ipt][0]\n",
    "    cs_NLO += hist_array_nlo[0][ipt][0]\n",
    "    cs_LO_1  += hist_array_lo[6][ipt][0]\n",
    "    cs_NLO_1 += hist_array_nlo[6][ipt][0]\n",
    "print(\"cross-section LO and NLO (NNPDF, CTEQ):\",round(cs_LO,4), round(cs_NLO,4), round(cs_LO_1,4), round(cs_NLO_1,4))\n"
   ]
  }
 ],
 "metadata": {
  "kernelspec": {
   "display_name": "Python 3 (ipykernel)",
   "language": "python",
   "name": "python3"
  },
  "language_info": {
   "codemirror_mode": {
    "name": "ipython",
    "version": 3
   },
   "file_extension": ".py",
   "mimetype": "text/x-python",
   "name": "python",
   "nbconvert_exporter": "python",
   "pygments_lexer": "ipython3",
   "version": "3.10.6"
  }
 },
 "nbformat": 4,
 "nbformat_minor": 5
}
