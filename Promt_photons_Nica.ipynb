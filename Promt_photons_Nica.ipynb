{
 "cells": [
  {
   "cell_type": "markdown",
   "id": "e39532b8-d14b-467d-a6d8-f466debc3a13",
   "metadata": {},
   "source": [
    "Initializing staff"
   ]
  },
  {
   "cell_type": "code",
   "execution_count": 1,
   "id": "0606bba4-6a8e-42ab-9d66-0569c95bcf8f",
   "metadata": {},
   "outputs": [
    {
     "name": "stdout",
     "output_type": "stream",
     "text": [
      "Welcome to JupyROOT 6.28/04\n"
     ]
    }
   ],
   "source": [
    "import numpy as np\n",
    "import scipy.integrate as integrate\n",
    "import lhapdf\n",
    "import ROOT"
   ]
  },
  {
   "cell_type": "markdown",
   "id": "80491a62-3722-487b-a549-df4d433c5af4",
   "metadata": {},
   "source": [
    "Setting up constants"
   ]
  },
  {
   "cell_type": "code",
   "execution_count": 2,
   "id": "ea5840ff-a729-42b9-9f29-6ba1a191e711",
   "metadata": {},
   "outputs": [],
   "source": [
    "s_h = 27**2 # in GeV (TeV)\n",
    "p_t = [1,2,3,4]#[0.25,0.50,0.75,1.00,1.25,1.50,1.75,2.00,2.25,2.50,2.75,3.00,3.25,3.50,3.75,4.00] #GeV\n",
    "i_ = [-4,-3,-2,-1,1,2,3,4]\n",
    "j_ = [-4,-3,-1,-2,2,1,3,4]\n",
    "alpha_em=1./137\n",
    "const = 0.04 * pow(10, 7-3) #* np.pi * alpha_em * alpha_em"
   ]
  },
  {
   "cell_type": "markdown",
   "id": "f19f212d-c1b4-45f5-b874-c151cf2ce45d",
   "metadata": {},
   "source": [
    "Setting up pdf sets"
   ]
  },
  {
   "cell_type": "code",
   "execution_count": 3,
   "id": "56ebc908-6020-4caf-8b41-337ec31cf18c",
   "metadata": {},
   "outputs": [
    {
     "name": "stdout",
     "output_type": "stream",
     "text": [
      "LHAPDF 6.5.4 loading /usr/share/lhapdf/LHAPDF/NNPDF23_nlo_as_0118/NNPDF23_nlo_as_0118_0000.dat\n",
      "NNPDF23_nlo_as_0118 PDF set, member #0, version 6; LHAPDF ID = 229800\n",
      "LHAPDF 6.5.4 loading /usr/share/lhapdf/LHAPDF/nNNPDF20_nlo_as_0118_D2/nNNPDF20_nlo_as_0118_D2_0000.dat\n",
      "nNNPDF20_nlo_as_0118_D2 PDF set, member #0, version 1; LHAPDF ID = 30010300\n",
      "LHAPDF 6.5.4 loading /usr/share/lhapdf/LHAPDF/cteq6l1/cteq6l1_0000.dat\n",
      "cteq6l1 PDF set, member #0, version 4; LHAPDF ID = 10042\n"
     ]
    }
   ],
   "source": [
    "pdfs = [lhapdf.mkPDF(\"NNPDF23_nlo_as_0118\", 0), lhapdf.mkPDF(\"nNNPDF20_nlo_as_0118_D2\", 0), lhapdf.mkPDF(\"cteq6l1\", 0)]"
   ]
  },
  {
   "cell_type": "markdown",
   "id": "20991ec8-1be9-4fd7-9be5-51a41a496a77",
   "metadata": {},
   "source": [
    "Setting up Histos"
   ]
  },
  {
   "cell_type": "code",
   "execution_count": 4,
   "id": "c2bba8c4-6ed0-42f0-9689-57f46f4ae87b",
   "metadata": {},
   "outputs": [],
   "source": [
    "hist = ROOT.TH1D(\"hist\",\"hist\",1000,0,0.1)"
   ]
  },
  {
   "cell_type": "markdown",
   "id": "fc12cb06-0e19-4da5-aefd-c9739fccacfc",
   "metadata": {},
   "source": [
    "NLO correction function "
   ]
  },
  {
   "cell_type": "code",
   "execution_count": 23,
   "id": "f8ed3612-0eaa-46fe-a2d1-6903f8d3e5f2",
   "metadata": {},
   "outputs": [],
   "source": [
    "def corr_func(z_min,p=1):\n",
    "    corr = lambda z: 2*np.log(p*(1-z))*(1+(1-z)**2)/z+z\n",
    "    \n",
    "    return integrate.quad(corr, z_min, 0.99, epsrel=0.05)[0]\n",
    "    "
   ]
  },
  {
   "cell_type": "code",
   "execution_count": 28,
   "id": "a51a49f6-2d40-4c11-b832-6727d5c1107f",
   "metadata": {},
   "outputs": [
    {
     "name": "stdout",
     "output_type": "stream",
     "text": [
      "-230.4515241546877\n"
     ]
    },
    {
     "name": "stderr",
     "output_type": "stream",
     "text": [
      "/tmp/ipykernel_2813699/1608129978.py:4: IntegrationWarning: The maximum number of subdivisions (50) has been achieved.\n",
      "  If increasing the limit yields no improvement it is advised to analyze \n",
      "  the integrand in order to determine the difficulties.  If the position of a \n",
      "  local difficulty can be determined (singularity, discontinuity) one will \n",
      "  probably gain from splitting up the interval and calling the integrator \n",
      "  on the subranges.  Perhaps a special-purpose integrator should be used.\n",
      "  return integrate.quad(corr, z_min, 0.99, epsrel=0.05)[0]\n"
     ]
    }
   ],
   "source": [
    "print(corr_func(0.0,0.25))"
   ]
  },
  {
   "cell_type": "markdown",
   "id": "14e5b8be-5cbb-4035-9a46-63ac9d295318",
   "metadata": {},
   "source": [
    "Function for Compton and annihilation cross-section"
   ]
  },
  {
   "cell_type": "code",
   "execution_count": 7,
   "id": "b18c0b8c-ea7e-4111-b962-6eb921d2c30c",
   "metadata": {},
   "outputs": [],
   "source": [
    "def compton_anih_crossection(y_2, y_1, p, iset1, iset2, isospin1, isospin2):\n",
    "\n",
    "    #if y_1<0: print(\"WTF\")\n",
    "    if abs(y_1)>2 or y_2>2: return 0.\n",
    "        \n",
    "    x_1 = (2*p/np.sqrt(s_h))* np.exp((y_1 + y_2)/2)*np.cosh(abs((y_1-y_2)/2))\n",
    "    x_2 = (2*p/np.sqrt(s_h))* np.exp(-(y_1 + y_2/2))*np.cosh(abs((y_1-y_2)/2))\n",
    "    #hist.Fill(x_1*x_2)\n",
    "    s = x_1*x_2*s_h\n",
    "\n",
    "    z_min = max(x_1,x_2)\n",
    "    \n",
    "    if np.all( [x_1 > 0 , x_1 < 1 , x_2 > 0 , x_2 < 1, 1. - 4*(p)**2/s > 0] ):\n",
    "        \n",
    "        cos_theta = np.sqrt(1 - 4*(p)**2/s)\n",
    "        u = (-1*s/2)*(1 + cos_theta)\n",
    "        t = (-1*s/2)*(1 - cos_theta)\n",
    "        Q2 = -t\n",
    "        \n",
    "        pdf1 = pdfs[iset1]\n",
    "        pdf2 = pdfs[iset2]\n",
    "        alpha_s = 0.5*(pdf1.alphasQ2(Q2)+pdf2.alphasQ2(Q2))\n",
    "\n",
    "        sigma=0.\n",
    "        for iquark in range(len(i_)):\n",
    "            i1, i2 = i_[iquark], i_[iquark]\n",
    "            if isospin1==1: i1 = j_[iquark]\n",
    "            if isospin2==1: i2 = j_[iquark]\n",
    "            \n",
    "            eq2 = (1. + (i_[iquark]+1)%2)**2/9.\n",
    "            \n",
    "            pdf_i = max(pdf1.xfxQ2(i1, x_1, Q2)/x_1,0.)\n",
    "            pdf_j = max(pdf2.xfxQ2(21, x_2, Q2)/x_2,0.)\n",
    "            pdf_k = max(pdf2.xfxQ2(-i2, x_2, Q2)/x_2,0.)\n",
    "            pdf_i2 = max(pdf2.xfxQ2(i2, x_2, Q2)/x_2,0.)\n",
    "            pdf_j2 = max(pdf1.xfxQ2(21, x_1, Q2)/x_1,0.)\n",
    "        \n",
    "            sigma_compton_dt = -eq2*(8*np.pi*alpha_s*alpha_em/s**2)*((s**2 + u**2)/(4*u*s))\n",
    "\n",
    "            sigma_anihhil_dt = -eq2*(8*np.pi*alpha_s*alpha_em/s**2)*((t**2 + u**2)/(4*t*s))\n",
    "            \n",
    "            sigma += pdf_i*pdf_j*sigma_compton_dt + pdf_i2*pdf_j2*sigma_compton_dt\n",
    "            sigma += pdf_i*pdf_k*sigma_anihhil_dt\n",
    "#----------------------------end of lavour cycle------------------------------\n",
    "        z_min = max(x_1,x_2)\n",
    "        corr = alpha_s*corr_func(z_min)/(2*np.pi)\n",
    "        if corr<-1: print(1+corr)\n",
    "        \n",
    "        return  sigma*const*(1+corr)\n",
    "    return 0."
   ]
  },
  {
   "cell_type": "markdown",
   "id": "2c1812ca-aa4f-4dd2-bbd3-2867c13844bb",
   "metadata": {},
   "source": [
    "$\\tau=x_1\\cdot x_2$,    $y=(1/2)ln{x_1/x_2}$,    $x_{1,2}=\\sqrt{\\tau}e^{\\pm y}$"
   ]
  },
  {
   "cell_type": "code",
   "execution_count": 8,
   "id": "e9956c87-37b0-4cb0-bbb3-92773f6cac4c",
   "metadata": {},
   "outputs": [],
   "source": [
    "def compton_anih_crossection1(y, tau, p, iset1, iset2, isospin1, isospin2):\n",
    "\n",
    "    #if abs(y)>0.5: return 0.\n",
    "    #print(tau)\n",
    "    x_1 = np.sqrt(tau) * np.exp(+y)\n",
    "    x_2 = np.sqrt(tau) * np.exp(-y)\n",
    "    \n",
    "    #hist.Fill(x_1*x_2)\n",
    "    s = x_1*x_2*s_h\n",
    "    \n",
    "    if np.all( [x_1 > 0 , x_1 < 1 , x_2 > 0 , x_2 < 1, 1. - 4*(p)**2/s > 0] ):\n",
    "        \n",
    "        cos_theta = np.sqrt(1 - 4*(p)**2/s)\n",
    "        u = (-1*s/2)*(1 + cos_theta)\n",
    "        t = (-1*s/2)*(1 - cos_theta)\n",
    "        Q2 = -t\n",
    "        \n",
    "        pdf1 = pdfs[iset1]\n",
    "        pdf2 = pdfs[iset2]\n",
    "        alpha_s = 0.5*(pdf1.alphasQ2(Q2)+pdf2.alphasQ2(Q2))\n",
    "\n",
    "        sigma=0.\n",
    "        for iquark in range(len(i_)):\n",
    "            i1, i2 = i_[iquark], i_[iquark]\n",
    "            if isospin1==1: i1 = j_[iquark]\n",
    "            if isospin2==1: i2 = j_[iquark]\n",
    "            \n",
    "            eq2 = (1. + (i_[iquark]+1)%2)**2/9.\n",
    "            \n",
    "            pdf_i = max(pdf1.xfxQ2(i1, x_1, Q2)/x_1,0.)\n",
    "            pdf_j = max(pdf2.xfxQ2(21, x_2, Q2)/x_2,0.)\n",
    "            pdf_k = max(pdf2.xfxQ2(-i2, x_2, Q2)/x_2,0.)\n",
    "            pdf_i2 = max(pdf2.xfxQ2(i2, x_2, Q2)/x_2,0.)\n",
    "            pdf_j2 = max(pdf1.xfxQ2(21, x_1, Q2)/x_1,0.)\n",
    "        \n",
    "            sigma_compton_dt = -eq2*(8*np.pi*alpha_s*alpha_em/s**2)*((s**2 + u**2)/(4*u*s))\n",
    "\n",
    "            sigma_anihhil_dt = -eq2*(8*np.pi*alpha_s*alpha_em/s**2)*((t**2 + u**2)/(4*t*s))\n",
    "            \n",
    "            sigma += pdf_i*pdf_j*sigma_compton_dt + pdf_i2*pdf_j2*sigma_compton_dt\n",
    "            sigma += pdf_i*pdf_k*sigma_anihhil_dt\n",
    "#----------------------------end of lavour cycle------------------------------\n",
    "        z_min = max(x_1,x_2)\n",
    "        corr = alpha_s*corr_func(z_min)/(2*np.pi)\n",
    "        if corr<-1: print(1+corr)\n",
    "        \n",
    "        return  sigma*const*(1+corr)\n",
    "    return 0."
   ]
  },
  {
   "cell_type": "markdown",
   "id": "3ed71b89-f22f-480e-9eb9-1c602bb2a99d",
   "metadata": {},
   "source": [
    "Testing"
   ]
  },
  {
   "cell_type": "code",
   "execution_count": 9,
   "id": "54831cba-cb78-4c2f-9d59-28f650ab98c0",
   "metadata": {},
   "outputs": [
    {
     "name": "stdout",
     "output_type": "stream",
     "text": [
      "0.0\n"
     ]
    }
   ],
   "source": [
    "print(compton_anih_crossection(0.01,0.5,1,0,0,0,0))"
   ]
  },
  {
   "cell_type": "markdown",
   "id": "1793d450-854f-42bb-aaff-dc4fe272da69",
   "metadata": {},
   "source": [
    "Integration Bounds and accuracy"
   ]
  },
  {
   "cell_type": "code",
   "execution_count": 10,
   "id": "bf175082-5ee9-4768-bbf1-073c5629f567",
   "metadata": {},
   "outputs": [],
   "source": [
    "def bounds_y(p, iset1, iset2, isospin1, isospin2):\n",
    "    return [np.log(p/np.sqrt(s_h)), np.log(np.sqrt(s_h)/p)]\n",
    "        \n",
    "def bounds_x(y_1, p, iset1, iset2, isospin1, isospin2):\n",
    "    return [np.log(p/(np.sqrt(s_h) - p*np.exp(-y_1))), np.log((np.sqrt(s_h) - p*np.exp(-y_1))/p)]\n",
    "\n",
    "def bounds_y1(p, iset1, iset2, isospin1, isospin2):\n",
    "    return [4.*p**2/s_h, 1]\n",
    "        \n",
    "def bounds_x1(tau, p, iset1, iset2, isospin1, isospin2):\n",
    "    return [-0.5*abs(np.log(tau)), +0.5*abs(np.log(tau))]\n",
    "    \n",
    "def opts0(y_1, p, iset1, iset2, isospin1, isospin2):\n",
    "    return {'epsrel' : 0.05}\n",
    "\n",
    "def opts1(p, iset1, iset2, isospin1, isospin2):\n",
    "    return {'epsrel' : 0.05}                \n",
    "\n",
    "def opts10(y_1, p, iset1, iset2, isospin1, isospin2):\n",
    "    return {'epsrel' : 0.5}\n",
    "\n",
    "def opts11(p, iset1, iset2, isospin1, isospin2):\n",
    "    return {'epsrel' : 0.5}     "
   ]
  },
  {
   "cell_type": "markdown",
   "id": "617a8eaa-7ebd-47a8-bf8b-9ddb2dbd4f28",
   "metadata": {},
   "source": [
    "Integration function"
   ]
  },
  {
   "cell_type": "code",
   "execution_count": 11,
   "id": "3f61c2c7-82c6-4787-b13d-9b2d39db06a7",
   "metadata": {},
   "outputs": [],
   "source": [
    "def integration_cs(pT,iset1,iset2,isospin1,isopin2):\n",
    "    result=[]\n",
    "    for p in pT:\n",
    "        integral = integrate.nquad(compton_anih_crossection1, [bounds_x1, bounds_y1], args=[p,iset1,iset2,isospin1,isopin2], opts=[opts10,opts11])\n",
    "        #integral = integrate.nquad(compton_anih_crossection, [bounds_x, bounds_y], args=[p,iset1,iset2,isospin1,isopin2], opts=[opts0,opts1])\n",
    "        #print(p,i,integral)\n",
    "        result.append(integral)   \n",
    "                \n",
    "    return result"
   ]
  },
  {
   "cell_type": "markdown",
   "id": "3809e99a-1cb5-4e34-a3e0-9ba30ba3d64c",
   "metadata": {},
   "source": [
    "Parallel calculating for $p+p$"
   ]
  },
  {
   "cell_type": "markdown",
   "id": "e1de3455-9a1e-486c-9fd6-99b39e9c77f9",
   "metadata": {},
   "source": [
    "Drawing histos"
   ]
  },
  {
   "cell_type": "code",
   "execution_count": 12,
   "id": "4f3baafd-2d47-46e7-a94e-7e91ec1ef76c",
   "metadata": {},
   "outputs": [
    {
     "data": {
      "image/png": "[encoded data removed]",
      "text/plain": [
       "<IPython.core.display.Image object>"
      ]
     },
     "metadata": {},
     "output_type": "display_data"
    }
   ],
   "source": [
    "c1 = ROOT.TCanvas(\"c1\",\"c1\",400,400)\n",
    "hist.Draw()\n",
    "c1.Draw()\n",
    "#%jsroot on"
   ]
  },
  {
   "cell_type": "code",
   "execution_count": 13,
   "id": "620ed11c-b797-4b6d-bfda-2a8b68e4205a",
   "metadata": {
    "scrolled": true
   },
   "outputs": [
    {
     "name": "stdout",
     "output_type": "stream",
     "text": [
      "[0.25, 0.5, 0.75, 1.0, 1.25, 1.5, 1.75, 2.0, 2.25, 2.5, 2.75, 3.0, 3.25, 3.5, 3.75, 4.0]\n"
     ]
    },
    {
     "name": "stderr",
     "output_type": "stream",
     "text": [
      "/usr/lib/python3.11/site-packages/scipy/integrate/_quadpack_py.py:1233: IntegrationWarning: The integral is probably divergent, or slowly convergent.\n",
      "  quad_r = quad(f, low, high, args=args, full_output=self.full_output,\n",
      "/usr/lib/python3.11/site-packages/scipy/integrate/_quadpack_py.py:1233: IntegrationWarning: The integral is probably divergent, or slowly convergent.\n",
      "  quad_r = quad(f, low, high, args=args, full_output=self.full_output,\n",
      "/usr/lib/python3.11/site-packages/scipy/integrate/_quadpack_py.py:1233: IntegrationWarning: The integral is probably divergent, or slowly convergent.\n",
      "  quad_r = quad(f, low, high, args=args, full_output=self.full_output,\n"
     ]
    }
   ],
   "source": [
    "import multiprocess as mp\n",
    "\n",
    "Ntr = 16\n",
    "pT = [0.25*i+0.25 for i in range(Ntr)]\n",
    "print(pT)\n",
    "pool = mp.Pool(Ntr)\n",
    "\n",
    "hist_array = pool.starmap(integration_cs, [([pT[i]], 0,0,0,0) for i in range(Ntr)])\n",
    "    \n",
    "pool.close()   "
   ]
  },
  {
   "cell_type": "markdown",
   "id": "cdafc8c6-7805-4867-9518-16cdfffe3a91",
   "metadata": {},
   "source": [
    "Parallel calculating for $p+n$"
   ]
  },
  {
   "cell_type": "code",
   "execution_count": 14,
   "id": "c782a4c3-004e-455a-ae7f-f11aa3d61c50",
   "metadata": {},
   "outputs": [
    {
     "name": "stderr",
     "output_type": "stream",
     "text": [
      "/usr/lib/python3.11/site-packages/scipy/integrate/_quadpack_py.py:1233: IntegrationWarning: The integral is probably divergent, or slowly convergent.\n",
      "  quad_r = quad(f, low, high, args=args, full_output=self.full_output,\n",
      "/usr/lib/python3.11/site-packages/scipy/integrate/_quadpack_py.py:1233: IntegrationWarning: The integral is probably divergent, or slowly convergent.\n",
      "  quad_r = quad(f, low, high, args=args, full_output=self.full_output,\n",
      "/usr/lib/python3.11/site-packages/scipy/integrate/_quadpack_py.py:1233: IntegrationWarning: The integral is probably divergent, or slowly convergent.\n",
      "  quad_r = quad(f, low, high, args=args, full_output=self.full_output,\n"
     ]
    }
   ],
   "source": [
    "pool_pn = mp.Pool(Ntr)\n",
    "\n",
    "hist_array_pn = pool_pn.starmap(integration_cs, [([pT[i]], 0,0,0,1) for i in range(Ntr)])\n",
    "    \n",
    "pool.close()   "
   ]
  },
  {
   "cell_type": "markdown",
   "id": "44d533b9-b465-4a85-9433-770d4148f22f",
   "metadata": {},
   "source": [
    "Parallel calculating for $n+p$"
   ]
  },
  {
   "cell_type": "code",
   "execution_count": 15,
   "id": "b6055615-4dbd-481d-aee5-568f5f7b5af9",
   "metadata": {},
   "outputs": [
    {
     "name": "stderr",
     "output_type": "stream",
     "text": [
      "/usr/lib/python3.11/site-packages/scipy/integrate/_quadpack_py.py:1233: IntegrationWarning: The integral is probably divergent, or slowly convergent.\n",
      "  quad_r = quad(f, low, high, args=args, full_output=self.full_output,\n",
      "/usr/lib/python3.11/site-packages/scipy/integrate/_quadpack_py.py:1233: IntegrationWarning: The integral is probably divergent, or slowly convergent.\n",
      "  quad_r = quad(f, low, high, args=args, full_output=self.full_output,\n",
      "/usr/lib/python3.11/site-packages/scipy/integrate/_quadpack_py.py:1233: IntegrationWarning: The integral is probably divergent, or slowly convergent.\n",
      "  quad_r = quad(f, low, high, args=args, full_output=self.full_output,\n"
     ]
    }
   ],
   "source": [
    "pool_np = mp.Pool(Ntr)\n",
    "\n",
    "hist_array_np = pool_np.starmap(integration_cs, [([pT[i]], 0,0,1,0) for i in range(Ntr)])\n",
    "    \n",
    "pool.close()   "
   ]
  },
  {
   "cell_type": "markdown",
   "id": "5e80db70-5ea6-4750-90b9-46e854ff61e2",
   "metadata": {},
   "source": [
    "Parallel calculating for $n+n$"
   ]
  },
  {
   "cell_type": "code",
   "execution_count": 16,
   "id": "1adadde8-cdb2-49d4-b28c-3aea65102ea6",
   "metadata": {},
   "outputs": [
    {
     "name": "stderr",
     "output_type": "stream",
     "text": [
      "/usr/lib/python3.11/site-packages/scipy/integrate/_quadpack_py.py:1233: IntegrationWarning: The integral is probably divergent, or slowly convergent.\n",
      "  quad_r = quad(f, low, high, args=args, full_output=self.full_output,\n",
      "/usr/lib/python3.11/site-packages/scipy/integrate/_quadpack_py.py:1233: IntegrationWarning: The integral is probably divergent, or slowly convergent.\n",
      "  quad_r = quad(f, low, high, args=args, full_output=self.full_output,\n",
      "/usr/lib/python3.11/site-packages/scipy/integrate/_quadpack_py.py:1233: IntegrationWarning: The integral is probably divergent, or slowly convergent.\n",
      "  quad_r = quad(f, low, high, args=args, full_output=self.full_output,\n"
     ]
    }
   ],
   "source": [
    "pool_nn = mp.Pool(Ntr)\n",
    "\n",
    "hist_array_nn = pool_nn.starmap(integration_cs, [([pT[i]], 0,0,1,1) for i in range(Ntr)])\n",
    "    \n",
    "pool.close()   "
   ]
  },
  {
   "cell_type": "markdown",
   "id": "71fcebbc-b904-4040-8114-469703d62313",
   "metadata": {},
   "source": [
    "Parallel calculating for $d+d$"
   ]
  },
  {
   "cell_type": "code",
   "execution_count": 17,
   "id": "93742eac-1058-4095-be7e-ef9a6dd4fdab",
   "metadata": {},
   "outputs": [
    {
     "name": "stderr",
     "output_type": "stream",
     "text": [
      "/usr/lib/python3.11/site-packages/scipy/integrate/_quadpack_py.py:1233: IntegrationWarning: The integral is probably divergent, or slowly convergent.\n",
      "  quad_r = quad(f, low, high, args=args, full_output=self.full_output,\n",
      "/usr/lib/python3.11/site-packages/scipy/integrate/_quadpack_py.py:1233: IntegrationWarning: The integral is probably divergent, or slowly convergent.\n",
      "  quad_r = quad(f, low, high, args=args, full_output=self.full_output,\n",
      "/usr/lib/python3.11/site-packages/scipy/integrate/_quadpack_py.py:1233: IntegrationWarning: The integral is probably divergent, or slowly convergent.\n",
      "  quad_r = quad(f, low, high, args=args, full_output=self.full_output,\n"
     ]
    }
   ],
   "source": [
    "pool_dd = mp.Pool(Ntr)\n",
    "\n",
    "hist_array_dd = pool_dd.starmap(integration_cs, [([pT[i]], 1,1,0,0) for i in range(Ntr)])\n",
    "    \n",
    "pool.close()   "
   ]
  },
  {
   "cell_type": "code",
   "execution_count": 18,
   "id": "1e55d33f-9155-48ef-8a53-5de64f9102fc",
   "metadata": {
    "scrolled": true
   },
   "outputs": [
    {
     "name": "stderr",
     "output_type": "stream",
     "text": [
      "/usr/lib/python3.11/site-packages/scipy/integrate/_quadpack_py.py:1233: IntegrationWarning: The integral is probably divergent, or slowly convergent.\n",
      "  quad_r = quad(f, low, high, args=args, full_output=self.full_output,\n",
      "/usr/lib/python3.11/site-packages/scipy/integrate/_quadpack_py.py:1233: IntegrationWarning: The integral is probably divergent, or slowly convergent.\n",
      "  quad_r = quad(f, low, high, args=args, full_output=self.full_output,\n",
      "/usr/lib/python3.11/site-packages/scipy/integrate/_quadpack_py.py:1233: IntegrationWarning: The integral is probably divergent, or slowly convergent.\n",
      "  quad_r = quad(f, low, high, args=args, full_output=self.full_output,\n",
      "/usr/lib/python3.11/site-packages/scipy/integrate/_quadpack_py.py:1233: IntegrationWarning: The integral is probably divergent, or slowly convergent.\n",
      "  quad_r = quad(f, low, high, args=args, full_output=self.full_output,\n",
      "/usr/lib/python3.11/site-packages/scipy/integrate/_quadpack_py.py:1233: IntegrationWarning: The integral is probably divergent, or slowly convergent.\n",
      "  quad_r = quad(f, low, high, args=args, full_output=self.full_output,\n",
      "/usr/lib/python3.11/site-packages/scipy/integrate/_quadpack_py.py:1233: IntegrationWarning: The integral is probably divergent, or slowly convergent.\n",
      "  quad_r = quad(f, low, high, args=args, full_output=self.full_output,\n"
     ]
    }
   ],
   "source": [
    "pool_pd = mp.Pool(Ntr)\n",
    "\n",
    "hist_array_pd = pool_pd.starmap(integration_cs, [([pT[i]], 0,1,0,0) for i in range(Ntr)])\n",
    "    \n",
    "pool.close()   \n",
    "\n",
    "pool_dp = mp.Pool(Ntr)\n",
    "\n",
    "hist_array_dp = pool_dp.starmap(integration_cs, [([pT[i]], 1,0,0,0) for i in range(Ntr)])\n",
    "    \n",
    "pool.close()   "
   ]
  },
  {
   "cell_type": "code",
   "execution_count": 19,
   "id": "19406e52-bd5a-44ea-b9fa-08cf9251a5db",
   "metadata": {},
   "outputs": [
    {
     "name": "stdout",
     "output_type": "stream",
     "text": [
      "[[(3.7946182746165946, 6262.621980962824)], [(3.6986149527543346, 170.42353588881247)], [(2.6422182223403685, 293.2116766532524)], [(1.2018811402289313, 137.4800563518354)], [(0.41985918815665835, 11.610360710093333)], [(0.14201550843101127, 0.7443064478119604)], [(0.052175540598545955, 0.6145182447488192)], [(0.020635447606416175, 0.13496846853944752)], [(0.008674744828906357, 0.024113882203612932)], [(0.0038353810466034946, 0.018216163535779796)], [(0.0017680109899396509, 0.010295449976579638)], [(0.0008437574177833052, 0.001180047726778629)], [(0.00041443900122655765, 0.0003927569547718263)], [(0.00020856812709061073, 0.00020119593254580575)], [(0.00010710305699951961, 0.00013550052148762694)], [(5.591990099481393e-05, 0.00011939288006610994)]]\n",
      "[[(3.794618274616594, 6262.621980962824)], [(3.698614952754334, 170.42353588881247)], [(2.6422182223403685, 293.2116766532524)], [(1.2018811402289313, 137.48005635183543)], [(0.41985918815665835, 11.61036071009617)], [(0.14201550843101127, 0.7443064478118058)], [(0.052175540598545955, 0.6145182447491161)], [(0.020635447606416175, 0.13496846853944752)], [(0.008674744828906357, 0.024113882203612932)], [(0.0038353810466034946, 0.018216163535779796)], [(0.0017680109899396509, 0.010295449976579638)], [(0.0008437574177833053, 0.001180047726779611)], [(0.00041443900122655765, 0.0003927569547718263)], [(0.00020856812709061073, 0.0002011959325455978)], [(0.0001071030569995196, 0.00013550052148768684)], [(5.591990099481393e-05, 0.0001193928800661099)]]\n"
     ]
    }
   ],
   "source": [
    "print(hist_array_pd)\n",
    "print(hist_array_dp)"
   ]
  },
  {
   "cell_type": "markdown",
   "id": "4ccbb704-6945-43ee-8029-8d07405066bb",
   "metadata": {},
   "source": [
    "Factors"
   ]
  },
  {
   "cell_type": "code",
   "execution_count": 20,
   "id": "a300de9d-3b36-4699-939b-f5882dd57477",
   "metadata": {},
   "outputs": [
    {
     "name": "stdout",
     "output_type": "stream",
     "text": [
      "[[(2.481773119924516, 6082.982859428517)], [(2.315875265676694, 588.4235857324635)], [(1.9263512691756874, 62.85159026176612)], [(1.1632558318804624, 126.64283152578547)], [(0.4615317857361637, 9.616845610075526)], [(0.15815880881654054, 0.7280829320075689)], [(0.058443941381634966, 0.41732025776251924)], [(0.023233173109457404, 0.10495031714099617)], [(0.009812669849600355, 0.023406729370959896)], [(0.00435775209305636, 0.01743162454589687)], [(0.0020169137615786027, 0.011016988970078216)], [(0.0009659296554504055, 0.0017551933853047334)], [(0.00047574859559494626, 0.00023735216799611789)], [(0.0002398462961831901, 0.00020134883183131632)], [(0.00012322826886971696, 0.00018412075425091074)], [(6.426144197116004e-05, 0.00016555284073874627)]]\n",
      "[[(2.3624237432265884, 4693.136612489179)], [(2.1523372085059047, 586.4927723542912)], [(1.7556985712117104, 72.62590397576334)], [(1.0407112873918098, 114.41851076747298)], [(0.4058931201492063, 8.097083317630696)], [(0.13713947514872832, 0.6742804437188991)], [(0.05006835633427385, 0.4064672920990933)], [(0.019687354252474202, 0.11621479306339419)], [(0.008229739727036499, 0.02559183085968082)], [(0.003618235520514523, 0.0179567148248426)], [(0.001657957417301014, 0.009785543100650154)], [(0.0007860224148557927, 0.0011514619619652205)], [(0.0003831934702871618, 0.00027397009573229206)], [(0.00019120120293386017, 0.00023792222127254955)], [(9.722918799037567e-05, 0.0002047798129736942)], [(5.018247514013179e-05, 0.00017655187329279292)]]\n",
      "[[(2.362423743226586, 4693.136612489179)], [(2.1523372085059056, 586.4927723542912)], [(1.7556985712117104, 72.62590397576331)], [(1.0407112873918098, 114.41851076747297)], [(0.4058931201492063, 8.097083317630696)], [(0.1371394751487283, 0.6742804437188991)], [(0.05006835633427385, 0.4064672920990933)], [(0.019687354252474202, 0.11621479306339419)], [(0.008229739727036499, 0.02559183085967385)], [(0.003618235520514523, 0.0179567148248426)], [(0.001657957417301014, 0.009785543100650154)], [(0.0007860224148557927, 0.0011514619619661989)], [(0.0003831934702871618, 0.0002739700957322921)], [(0.0001912012029338602, 0.00023792222127254952)], [(9.722918799037567e-05, 0.00020477981297366946)], [(5.018247514013179e-05, 0.0001765518732927929)]]\n",
      "pT:1.0,2.0,3.0,4.0 [0.9508302316704715, 0.9276931133185692, 0.90935888772705, 0.8919739565635433, 0.8758762484160616, 0.8630613323472635, 0.8523163155257124, 0.842776614812106, 0.8339996626527424, 0.8257101719870703, 0.8177202039624653, 0.8099077346777243, 0.8022475876681237, 0.7947584080077346, 0.7874825044641031, 0.7803529704868756]\n",
      "pT:1.0,2.0,3.0,4.0 [1.927809464988963, 2.254067285303744, 1.8421279912916178, 1.074437659011803, 0.8243123206152623, 0.8020079987023238, 0.7918473384753719, 0.7828872006310447, 0.7748253782925387, 0.7674299411553928, 0.7609087595856253, 0.7553898150565213, 0.751182340485102, 0.7484646492819738, 0.7475324683760527, 0.7489707979962071]\n",
      "2.1337115098252606\n"
     ]
    }
   ],
   "source": [
    "print(hist_array)\n",
    "print(hist_array_pn)\n",
    "print(hist_array_np)\n",
    "res_iso=[]\n",
    "for ival in range(len(hist_array)):\n",
    "    res_iso.append(0.25*(hist_array[ival][0][0]+hist_array_pn[ival][0][0]+hist_array_np[ival][0][0]+hist_array_nn[ival][0][0])/(hist_array[ival][0][0]+1e-20))\n",
    "print(\"pT:1.0,2.0,3.0,4.0\",res_iso)\n",
    "res=[]\n",
    "for ival in range(len(hist_array)):\n",
    "    res.append(hist_array_dd[ival][0][0]/(hist_array[ival][0][0]+1e-20))\n",
    "print(\"pT:1.0,2.0,3.0,4.0\",res)\n",
    "cs_tot=0\n",
    "for ival in range(len(hist_array)):\n",
    "    cs_tot+=hist_array_dd[ival][0][0]*(0.25+0.25*ival)\n",
    "print(cs_tot*0.25)"
   ]
  }
 ],
 "metadata": {
  "kernelspec": {
   "display_name": "Python 3 (ipykernel)",
   "language": "python",
   "name": "python3"
  },
  "language_info": {
   "codemirror_mode": {
    "name": "ipython",
    "version": 3
   },
   "file_extension": ".py",
   "mimetype": "text/x-python",
   "name": "python",
   "nbconvert_exporter": "python",
   "pygments_lexer": "ipython3",
   "version": "3.11.3"
  }
 },
 "nbformat": 4,
 "nbformat_minor": 5
}
