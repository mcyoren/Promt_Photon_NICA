{
 "cells": [
  {
   "cell_type": "markdown",
   "id": "e39532b8-d14b-467d-a6d8-f466debc3a13",
   "metadata": {},
   "source": [
    "Initializing staff"
   ]
  },
  {
   "cell_type": "code",
   "execution_count": 1,
   "id": "0606bba4-6a8e-42ab-9d66-0569c95bcf8f",
   "metadata": {},
   "outputs": [
    {
     "name": "stdout",
     "output_type": "stream",
     "text": [
      "Welcome to JupyROOT 6.29/01\n"
     ]
    }
   ],
   "source": [
    "import numpy as np\n",
    "import scipy.integrate as integrate\n",
    "import lhapdf\n",
    "import ROOT"
   ]
  },
  {
   "cell_type": "markdown",
   "id": "80491a62-3722-487b-a549-df4d433c5af4",
   "metadata": {},
   "source": [
    "Setting up constants"
   ]
  },
  {
   "cell_type": "code",
   "execution_count": 2,
   "id": "ea5840ff-a729-42b9-9f29-6ba1a191e711",
   "metadata": {},
   "outputs": [],
   "source": [
    "s_h = 27**2 # in GeV (TeV)\n",
    "p_t = [1,2,3,4]#[0.25,0.50,0.75,1.00,1.25,1.50,1.75,2.00,2.25,2.50,2.75,3.00,3.25,3.50,3.75,4.00] #GeV\n",
    "i_ = [-4,-3,-2,-1,1,2,3,4]\n",
    "j_ = [-4,-3,-1,-2,2,1,3,4]\n",
    "alpha_em=1./137"
   ]
  },
  {
   "cell_type": "markdown",
   "id": "f19f212d-c1b4-45f5-b874-c151cf2ce45d",
   "metadata": {},
   "source": [
    "Setting up pdf sets"
   ]
  },
  {
   "cell_type": "code",
   "execution_count": 3,
   "id": "56ebc908-6020-4caf-8b41-337ec31cf18c",
   "metadata": {},
   "outputs": [
    {
     "name": "stdout",
     "output_type": "stream",
     "text": [
      "LHAPDF 6.5.4 loading /home/yoren/bnl/lhapdf/LHAPDF-6.5.4/install/share/LHAPDF/NNPDF23_nlo_as_0118/NNPDF23_nlo_as_0118_0000.dat\n",
      "NNPDF23_nlo_as_0118 PDF set, member #0, version 6; LHAPDF ID = 229800\n",
      "LHAPDF 6.5.4 loading /home/yoren/bnl/lhapdf/LHAPDF-6.5.4/install/share/LHAPDF/nNNPDF20_nlo_as_0118_D2/nNNPDF20_nlo_as_0118_D2_0000.dat\n",
      "nNNPDF20_nlo_as_0118_D2 PDF set, member #0, version 1; LHAPDF ID = 30010300\n",
      "LHAPDF 6.5.4 loading /home/yoren/bnl/lhapdf/LHAPDF-6.5.4/install/share/LHAPDF/cteq6l1/cteq6l1_0000.dat\n",
      "cteq6l1 PDF set, member #0, version 4; LHAPDF ID = 10042\n"
     ]
    }
   ],
   "source": [
    "pdfs = [lhapdf.mkPDF(\"NNPDF23_nlo_as_0118\", 0), lhapdf.mkPDF(\"nNNPDF20_nlo_as_0118_D2\", 0), lhapdf.mkPDF(\"cteq6l1\", 0)]"
   ]
  },
  {
   "cell_type": "markdown",
   "id": "14e5b8be-5cbb-4035-9a46-63ac9d295318",
   "metadata": {},
   "source": [
    "Function for Compton and annihilation cross-section"
   ]
  },
  {
   "cell_type": "markdown",
   "id": "20991ec8-1be9-4fd7-9be5-51a41a496a77",
   "metadata": {},
   "source": [
    "Setting up Histos"
   ]
  },
  {
   "cell_type": "code",
   "execution_count": 4,
   "id": "c2bba8c4-6ed0-42f0-9689-57f46f4ae87b",
   "metadata": {},
   "outputs": [],
   "source": [
    "hist = ROOT.TH1D(\"hist\",\"hist\",1000,0,0.1)"
   ]
  },
  {
   "cell_type": "code",
   "execution_count": 5,
   "id": "b18c0b8c-ea7e-4111-b962-6eb921d2c30c",
   "metadata": {},
   "outputs": [],
   "source": [
    "def compton_anih_crossection(y_2, y_1, p, iset1, iset2, isospin1, isospin2):\n",
    "\n",
    "    #if y_1<0: print(\"WTF\")\n",
    "    if abs(y_1)>2 or y_2>2: return 0.\n",
    "        \n",
    "    x_1 = (2*p/np.sqrt(s_h))* np.exp((y_1 + y_2)/2)*np.cosh(abs((y_1-y_2)/2))\n",
    "    x_2 = (2*p/np.sqrt(s_h))* np.exp(-(y_1 + y_2/2))*np.cosh(abs((y_1-y_2)/2))\n",
    "    hist.Fill(x_1*x_2)\n",
    "    s = x_1*x_2*s_h\n",
    "    \n",
    "    if np.all( [x_1 > 0 , x_1 < 1 , x_2 > 0 , x_2 < 1, 1. - 4*(p)**2/s > 0] ):\n",
    "        \n",
    "        cos_theta = np.sqrt(1 - 4*(p)**2/s)\n",
    "        u = (-1*s/2)*(1 + cos_theta)\n",
    "        t = (-1*s/2)*(1 - cos_theta)\n",
    "        Q2 = -t\n",
    "        \n",
    "        pdf1 = pdfs[iset1]\n",
    "        pdf2 = pdfs[iset2]\n",
    "        alpha_s = 0.5*(pdf1.alphasQ2(Q2)+pdf2.alphasQ2(Q2))\n",
    "\n",
    "        sigma=0.\n",
    "        for iquark in range(len(i_)):\n",
    "            i1, i2 = i_[iquark], i_[iquark]\n",
    "            if isospin1==1: i1 = j_[iquark]\n",
    "            if isospin2==1: i2 = j_[iquark]\n",
    "            \n",
    "            eq2 = (1. + (i_[iquark]+1)%2)**2/9.\n",
    "            \n",
    "            pdf_i = max(pdf1.xfxQ2(i1, x_1, Q2)/x_1,0.)\n",
    "            pdf_j = max(pdf2.xfxQ2(21, x_2, Q2)/x_2,0.)\n",
    "            pdf_k = max(pdf2.xfxQ2(-i2, x_2, Q2)/x_2,0.)\n",
    "            pdf_i2 = max(pdf2.xfxQ2(i2, x_2, Q2)/x_2,0.)\n",
    "            pdf_j2 = max(pdf1.xfxQ2(21, x_1, Q2)/x_1,0.)\n",
    "        \n",
    "            sigma_compton_dt = -eq2*(8*np.pi*alpha_s*alpha_em/s)*((s**2 + u**2)/(4*u*s))\n",
    "\n",
    "            sigma_anihhil_dt = -eq2*(8*np.pi*alpha_s*alpha_em/s)*((t**2 + u**2)/(4*t*s))\n",
    "            \n",
    "            sigma += pdf_i*pdf_j*sigma_compton_dt + pdf_i2*pdf_j2*sigma_compton_dt\n",
    "            sigma += pdf_i*pdf_k*sigma_anihhil_dt\n",
    "        \n",
    "        return  sigma\n",
    "    return 0."
   ]
  },
  {
   "cell_type": "markdown",
   "id": "2c1812ca-aa4f-4dd2-bbd3-2867c13844bb",
   "metadata": {},
   "source": [
    "$\\tau=x_1\\cdot x_2$, $y=(1/2)ln{x_1/x_2}$"
   ]
  },
  {
   "cell_type": "code",
   "execution_count": 6,
   "id": "e9956c87-37b0-4cb0-bbb3-92773f6cac4c",
   "metadata": {},
   "outputs": [],
   "source": [
    "def compton_anih_crossection1(y, tau, p, iset1, iset2, isospin1, isospin2):\n",
    "\n",
    "    print(y, tau)\n",
    "    x_1 = np.sqrt(tau) * np.exp(+y)\n",
    "    x_2 = np.sqrt(tau) * np.exp(-y)\n",
    "    \n",
    "    #hist.Fill(x_1*x_2)\n",
    "    s = x_1*x_2*s_h\n",
    "    \n",
    "    if np.all( [x_1 > 0 , x_1 < 1 , x_2 > 0 , x_2 < 1, 1. - 4*(p)**2/s > 0] ):\n",
    "        \n",
    "        cos_theta = np.sqrt(1 - 4*(p)**2/s)\n",
    "        u = (-1*s/2)*(1 + cos_theta)\n",
    "        t = (-1*s/2)*(1 - cos_theta)\n",
    "        Q2 = -t\n",
    "        \n",
    "        pdf1 = pdfs[iset1]\n",
    "        pdf2 = pdfs[iset2]\n",
    "        alpha_s = 0.5*(pdf1.alphasQ2(Q2)+pdf2.alphasQ2(Q2))\n",
    "\n",
    "        sigma=0.\n",
    "        for iquark in range(len(i_)):\n",
    "            i1, i2 = i_[iquark], i_[iquark]\n",
    "            if isospin1==1: i1 = j_[iquark]\n",
    "            if isospin2==1: i2 = j_[iquark]\n",
    "            \n",
    "            eq2 = (1. + (i_[iquark]+1)%2)**2/9.\n",
    "            \n",
    "            pdf_i = max(pdf1.xfxQ2(i1, x_1, Q2)/x_1,0.)\n",
    "            pdf_j = max(pdf2.xfxQ2(21, x_2, Q2)/x_2,0.)\n",
    "            pdf_k = max(pdf2.xfxQ2(-i2, x_2, Q2)/x_2,0.)\n",
    "            pdf_i2 = max(pdf2.xfxQ2(i2, x_2, Q2)/x_2,0.)\n",
    "            pdf_j2 = max(pdf1.xfxQ2(21, x_1, Q2)/x_1,0.)\n",
    "        \n",
    "            sigma_compton_dt = -eq2*(8*np.pi*alpha_s*alpha_em/s)*((s**2 + u**2)/(4*u*s))\n",
    "\n",
    "            sigma_anihhil_dt = -eq2*(8*np.pi*alpha_s*alpha_em/s)*((t**2 + u**2)/(4*t*s))\n",
    "            \n",
    "            sigma += pdf_i*pdf_j*sigma_compton_dt + pdf_i2*pdf_j2*sigma_compton_dt\n",
    "            sigma += pdf_i*pdf_k*sigma_anihhil_dt\n",
    "        \n",
    "        return  sigma\n",
    "    return 0."
   ]
  },
  {
   "cell_type": "markdown",
   "id": "3ed71b89-f22f-480e-9eb9-1c602bb2a99d",
   "metadata": {},
   "source": [
    "Testing"
   ]
  },
  {
   "cell_type": "code",
   "execution_count": 7,
   "id": "54831cba-cb78-4c2f-9d59-28f650ab98c0",
   "metadata": {},
   "outputs": [
    {
     "name": "stdout",
     "output_type": "stream",
     "text": [
      "0.0\n"
     ]
    }
   ],
   "source": [
    "print(compton_anih_crossection(0.01,0.5,1,0,0,0,0))"
   ]
  },
  {
   "cell_type": "markdown",
   "id": "1793d450-854f-42bb-aaff-dc4fe272da69",
   "metadata": {},
   "source": [
    "Integration Bounds and accuracy"
   ]
  },
  {
   "cell_type": "code",
   "execution_count": 8,
   "id": "bf175082-5ee9-4768-bbf1-073c5629f567",
   "metadata": {},
   "outputs": [],
   "source": [
    "def bounds_y(p, iset1, iset2, isospin1, isospin2):\n",
    "    return [np.log(p/np.sqrt(s_h)), np.log(np.sqrt(s_h)/p)]\n",
    "        \n",
    "def bounds_x(y_1, p, iset1, iset2, isospin1, isospin2):\n",
    "    return [np.log(p/(np.sqrt(s_h) - p*np.exp(-y_1))), np.log((np.sqrt(s_h) - p*np.exp(-y_1))/p)]\n",
    "\n",
    "def bounds_y1(p, iset1, iset2, isospin1, isospin2):\n",
    "    return [4.*p**2/s_h, 1]\n",
    "        \n",
    "def bounds_x1(tau, p, iset1, iset2, isospin1, isospin2):\n",
    "    return [-0.5*abs(np.log(tau)), -0.5*abs(np.log(tau))]\n",
    "    \n",
    "def opts0(y_1, p, iset1, iset2, isospin1, isospin2):\n",
    "    return {'epsrel' : 0.05}\n",
    "\n",
    "def opts1(p, iset1, iset2, isospin1, isospin2):\n",
    "    return {'epsrel' : 0.05}                "
   ]
  },
  {
   "cell_type": "markdown",
   "id": "617a8eaa-7ebd-47a8-bf8b-9ddb2dbd4f28",
   "metadata": {},
   "source": [
    "Integration function"
   ]
  },
  {
   "cell_type": "code",
   "execution_count": 9,
   "id": "3f61c2c7-82c6-4787-b13d-9b2d39db06a7",
   "metadata": {},
   "outputs": [],
   "source": [
    "def integration_cs(pT,iset1,iset2,isospin1,isopin2):\n",
    "    result=[]\n",
    "    for p in pT:\n",
    "        integral = integrate.nquad(compton_anih_crossection, [bounds_x, bounds_y], args=[p,iset1,iset2,isospin1,isopin2], opts=[opts0,opts1])\n",
    "        #print(p,i,integral)\n",
    "        result.append(integral)   \n",
    "                \n",
    "    return result"
   ]
  },
  {
   "cell_type": "markdown",
   "id": "3809e99a-1cb5-4e34-a3e0-9ba30ba3d64c",
   "metadata": {},
   "source": [
    "Parallel calculating for $p+p$"
   ]
  },
  {
   "cell_type": "markdown",
   "id": "e1de3455-9a1e-486c-9fd6-99b39e9c77f9",
   "metadata": {},
   "source": [
    "Drawing histos"
   ]
  },
  {
   "cell_type": "code",
   "execution_count": 10,
   "id": "4f3baafd-2d47-46e7-a94e-7e91ec1ef76c",
   "metadata": {},
   "outputs": [
    {
     "data": {
      "image/png": "[encoded data removed]",
      "text/plain": [
       "<IPython.core.display.Image object>"
      ]
     },
     "metadata": {},
     "output_type": "display_data"
    }
   ],
   "source": [
    "c1 = ROOT.TCanvas(\"c1\",\"c1\",400,400)\n",
    "hist.Draw()\n",
    "c1.Draw()\n",
    "#%jsroot on"
   ]
  },
  {
   "cell_type": "code",
   "execution_count": 11,
   "id": "620ed11c-b797-4b6d-bfda-2a8b68e4205a",
   "metadata": {},
   "outputs": [],
   "source": [
    "import multiprocess as mp\n",
    "\n",
    "Ntr = 4\n",
    "pool = mp.Pool(Ntr)\n",
    "\n",
    "hist_array = pool.starmap(integration_cs, ([[1.0*i+1.0], 0,0,0,0] for i in range(Ntr)))\n",
    "    \n",
    "pool.close()   "
   ]
  },
  {
   "cell_type": "markdown",
   "id": "cdafc8c6-7805-4867-9518-16cdfffe3a91",
   "metadata": {},
   "source": [
    "Parallel calculating for $p+n$"
   ]
  },
  {
   "cell_type": "code",
   "execution_count": 12,
   "id": "c782a4c3-004e-455a-ae7f-f11aa3d61c50",
   "metadata": {},
   "outputs": [],
   "source": [
    "pool_pn = mp.Pool(Ntr)\n",
    "\n",
    "hist_array_pn = pool_pn.starmap(integration_cs, [([1.0*i+1.0], 0,0,0,1) for i in range(Ntr)])\n",
    "    \n",
    "pool.close()   "
   ]
  },
  {
   "cell_type": "markdown",
   "id": "44d533b9-b465-4a85-9433-770d4148f22f",
   "metadata": {},
   "source": [
    "Parallel calculating for $n+p$"
   ]
  },
  {
   "cell_type": "code",
   "execution_count": 13,
   "id": "b6055615-4dbd-481d-aee5-568f5f7b5af9",
   "metadata": {},
   "outputs": [],
   "source": [
    "pool_np = mp.Pool(Ntr)\n",
    "\n",
    "hist_array_np = pool_np.starmap(integration_cs, [([1.0*i+1.0], 0,0,1,0) for i in range(Ntr)])\n",
    "    \n",
    "pool.close()   "
   ]
  },
  {
   "cell_type": "markdown",
   "id": "5e80db70-5ea6-4750-90b9-46e854ff61e2",
   "metadata": {},
   "source": [
    "Parallel calculating for $n+n$"
   ]
  },
  {
   "cell_type": "code",
   "execution_count": 14,
   "id": "1adadde8-cdb2-49d4-b28c-3aea65102ea6",
   "metadata": {},
   "outputs": [],
   "source": [
    "pool_nn = mp.Pool(Ntr)\n",
    "\n",
    "hist_array_nn = pool_nn.starmap(integration_cs, [([1.0*i+1.0], 0,0,1,1) for i in range(Ntr)])\n",
    "    \n",
    "pool.close()   "
   ]
  },
  {
   "cell_type": "markdown",
   "id": "71fcebbc-b904-4040-8114-469703d62313",
   "metadata": {},
   "source": [
    "Parallel calculating for $d+d$"
   ]
  },
  {
   "cell_type": "code",
   "execution_count": 15,
   "id": "93742eac-1058-4095-be7e-ef9a6dd4fdab",
   "metadata": {},
   "outputs": [],
   "source": [
    "pool_dd = mp.Pool(Ntr)\n",
    "\n",
    "hist_array_dd = pool_dd.starmap(integration_cs, [([1.0*i+1.0], 1,1,0,0) for i in range(Ntr)])\n",
    "    \n",
    "pool.close()   "
   ]
  },
  {
   "cell_type": "code",
   "execution_count": null,
   "id": "1e55d33f-9155-48ef-8a53-5de64f9102fc",
   "metadata": {},
   "outputs": [],
   "source": [
    "pool_pd = mp.Pool(Ntr)\n",
    "\n",
    "hist_array_pd = pool_pd.starmap(integration_cs, [([1.0*i+1.0], 1,0,0,0) for i in range(Ntr)])\n",
    "    \n",
    "pool.close()   \n",
    "\n",
    "pool_dp = mp.Pool(Ntr)\n",
    "\n",
    "hist_array_dp = pool_dp.starmap(integration_cs, [([1.0*i+1.0], 0,1,0,0) for i in range(Ntr)])\n",
    "    \n",
    "pool.close()   "
   ]
  },
  {
   "cell_type": "code",
   "execution_count": null,
   "id": "823f1fa6-15a9-41e5-aae2-8052c385c83e",
   "metadata": {},
   "outputs": [],
   "source": [
    "print(hist_array_pd)\n",
    "print(hist_array_dp)"
   ]
  },
  {
   "cell_type": "markdown",
   "id": "4ccbb704-6945-43ee-8029-8d07405066bb",
   "metadata": {},
   "source": [
    "Factors"
   ]
  },
  {
   "cell_type": "code",
   "execution_count": null,
   "id": "a300de9d-3b36-4699-939b-f5882dd57477",
   "metadata": {},
   "outputs": [],
   "source": [
    "print(hist_array_pn)\n",
    "print(hist_array_)\n",
    "res_iso=[]\n",
    "for ival in range(len(hist_array)):\n",
    "    res_iso.append(0.25*(hist_array[ival][0][0]+hist_array_pn[ival][0][0]+hist_array_np[ival][0][0]+hist_array_nn[ival][0][0])/(hist_array[ival][0][0]+1e-20))\n",
    "print(\"pT:1.0,2.0,3.0,4.0\",res_iso)\n",
    "res=[]\n",
    "for ival in range(len(hist_array)):\n",
    "    res.append(hist_array_dd[ival][0][0]/(hist_array[ival][0][0]+1e-20))\n",
    "print(\"pT:1.0,2.0,3.0,4.0\",res)"
   ]
  }
 ],
 "metadata": {
  "kernelspec": {
   "display_name": "Python 3 (ipykernel)",
   "language": "python",
   "name": "python3"
  },
  "language_info": {
   "codemirror_mode": {
    "name": "ipython",
    "version": 3
   },
   "file_extension": ".py",
   "mimetype": "text/x-python",
   "name": "python",
   "nbconvert_exporter": "python",
   "pygments_lexer": "ipython3",
   "version": "3.10.6"
  }
 },
 "nbformat": 4,
 "nbformat_minor": 5
}
