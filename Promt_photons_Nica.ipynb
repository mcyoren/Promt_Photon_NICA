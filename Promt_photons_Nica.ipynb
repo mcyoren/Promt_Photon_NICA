{
 "cells": [
  {
   "cell_type": "markdown",
   "id": "e39532b8-d14b-467d-a6d8-f466debc3a13",
   "metadata": {},
   "source": [
    "Initializing staff"
   ]
  },
  {
   "cell_type": "code",
   "execution_count": 1,
   "id": "0606bba4-6a8e-42ab-9d66-0569c95bcf8f",
   "metadata": {},
   "outputs": [],
   "source": [
    "import numpy as np\n",
    "import scipy.integrate as integrate\n",
    "import lhapdf"
   ]
  },
  {
   "cell_type": "markdown",
   "id": "80491a62-3722-487b-a549-df4d433c5af4",
   "metadata": {},
   "source": [
    "Setting up constants"
   ]
  },
  {
   "cell_type": "code",
   "execution_count": 2,
   "id": "ea5840ff-a729-42b9-9f29-6ba1a191e711",
   "metadata": {},
   "outputs": [],
   "source": [
    "s_h = 27**2 # in GeV (TeV)\n",
    "p_t = [1,2,3,4]#[0.25,0.50,0.75,1.00,1.25,1.50,1.75,2.00,2.25,2.50,2.75,3.00,3.25,3.50,3.75,4.00] #GeV\n",
    "i_ = [-5,-4,-3,-2,-1,1,2,3,4,5]\n",
    "alpha_em=1./137\n",
    "const = 1/(s_h*8*(np.pi**2))\n",
    "#nNNPDF20_nlo_as_0118_D2\n",
    "dsigma = [0] * 6\n",
    "#result = 0.\n",
    "sigma_dp = []"
   ]
  },
  {
   "cell_type": "markdown",
   "id": "f19f212d-c1b4-45f5-b874-c151cf2ce45d",
   "metadata": {},
   "source": [
    "Setting up pdf sets"
   ]
  },
  {
   "cell_type": "code",
   "execution_count": 3,
   "id": "56ebc908-6020-4caf-8b41-337ec31cf18c",
   "metadata": {},
   "outputs": [
    {
     "name": "stdout",
     "output_type": "stream",
     "text": [
      "LHAPDF 6.5.4 loading /home/yoren/bnl/lhapdf/LHAPDF-6.5.4/install/share/LHAPDF/NNPDF23_nlo_as_0118/NNPDF23_nlo_as_0118_0000.dat\n",
      "NNPDF23_nlo_as_0118 PDF set, member #0, version 6; LHAPDF ID = 229800\n",
      "LHAPDF 6.5.4 loading /home/yoren/bnl/lhapdf/LHAPDF-6.5.4/install/share/LHAPDF/nNNPDF20_nlo_as_0118_D2/nNNPDF20_nlo_as_0118_D2_0000.dat\n",
      "nNNPDF20_nlo_as_0118_D2 PDF set, member #0, version 1; LHAPDF ID = 30010300\n",
      "LHAPDF 6.5.4 loading /home/yoren/bnl/lhapdf/LHAPDF-6.5.4/install/share/LHAPDF/cteq6l1/cteq6l1_0000.dat\n",
      "cteq6l1 PDF set, member #0, version 4; LHAPDF ID = 10042\n"
     ]
    }
   ],
   "source": [
    "pdfs = [lhapdf.mkPDF(\"NNPDF23_nlo_as_0118\", 0), lhapdf.mkPDF(\"nNNPDF20_nlo_as_0118_D2\", 0), lhapdf.mkPDF(\"cteq6l1\", 0)]"
   ]
  },
  {
   "cell_type": "markdown",
   "id": "14e5b8be-5cbb-4035-9a46-63ac9d295318",
   "metadata": {},
   "source": [
    "Function for Compton and annihilation cross-section"
   ]
  },
  {
   "cell_type": "code",
   "execution_count": 10,
   "id": "b18c0b8c-ea7e-4111-b962-6eb921d2c30c",
   "metadata": {},
   "outputs": [],
   "source": [
    "def compton_anih_crossection(y_1, y_2, p, i, iset):\n",
    "    #print(\"y_1\", y_1, y_2, s_h)\n",
    "    if abs(y_1)>2 or y_2>2: return 0.\n",
    "    x_1 = (2*p/np.sqrt(s_h))* np.exp((y_1 + y_2)/2)*np.cosh(abs((y_1-y_2)/2))\n",
    "    x_2 = (2*p/np.sqrt(s_h))* np.exp(-(y_1 + y_2/2))*np.cosh(abs((y_1-y_2)/2))\n",
    "    s = x_1*x_2*s_h\n",
    "    #print(x_1, x_2, p, s_h, s, 1. - 4*(p)**2/s)\n",
    "    if np.all( [x_1 > 0 , x_1 < 1 , x_2 > 0 , x_2 < 1, 1. - 4*(p)**2/s > 0] ):\n",
    "        cos_theta = np.sqrt(1 - 4*(p)**2/s)\n",
    "        u = (-1*s/2)*(1 + cos_theta)\n",
    "        t = (-1*s/2)*(1 - cos_theta)\n",
    "        Q2 = -t\n",
    "        #if Q2<1: print(\"wrong q2\")\n",
    "        pdf = pdfs[iset]\n",
    "        alfa_s = pdf.alphasQ2(Q2)\n",
    "        pdf_i = max(pdf.xfxQ2(i, x_1, Q2)/x_1,0.)\n",
    "        pdf_j = max(pdf.xfxQ2(21, x_2, Q2)/x_2,0.)\n",
    "        #print(Q2,pdf.xfxQ2(i, x_1, Q2),x_1)\n",
    "        pdf_i2 = max(pdf.xfxQ2(i, x_2, Q2)/x_2,0)\n",
    "        pdf_j2 = max(pdf.xfxQ2(21, x_1, Q2)/x_1,0)\n",
    "        sigma_compron_dt = -(8*np.pi*alfa_s*alpha_em/s)*((s**2 + u**2)/(4*u*s))\n",
    "        #sigma_part = x_1*x_2*(pdf_i*pdf_j*sigma_dt_1 + pdf_i2*pdf_j2*sigma_dt_2)\n",
    "        sigma = pdf_i*pdf_j*sigma_dt+pdf_i2*pdf_j2*sigma_dt\n",
    "        #print(s_h, s, cos_theta, u, t, 1 - 4*(p)**2/s, sigma)\n",
    "        if sigma<0: print(u,pdf_i,pdf_j )\n",
    "        \n",
    "        return  sigma\n",
    "    return 0."
   ]
  },
  {
   "cell_type": "code",
   "execution_count": 11,
   "id": "54831cba-cb78-4c2f-9d59-28f650ab98c0",
   "metadata": {},
   "outputs": [
    {
     "name": "stdout",
     "output_type": "stream",
     "text": [
      "2.5463618463241815\n"
     ]
    }
   ],
   "source": [
    "print(compton_anih_crossection(0.1,0.6,1,1,0))"
   ]
  },
  {
   "cell_type": "markdown",
   "id": "b49533d6-6d89-4e71-8630-0c76fd755ab2",
   "metadata": {},
   "source": [
    "Cross-section integration"
   ]
  },
  {
   "cell_type": "markdown",
   "id": "1793d450-854f-42bb-aaff-dc4fe272da69",
   "metadata": {},
   "source": [
    "Integration Bounds and accuracy"
   ]
  },
  {
   "cell_type": "code",
   "execution_count": 12,
   "id": "bf175082-5ee9-4768-bbf1-073c5629f567",
   "metadata": {},
   "outputs": [],
   "source": [
    "def bounds_y(p,i,iset):\n",
    "    return [np.log(p/np.sqrt(s_h)), np.log(np.sqrt(s_h)/p)]\n",
    "        \n",
    "def bounds_x(y_1,p,i,ist):\n",
    "    return [np.log(p/(np.sqrt(s_h) - p*np.exp(-1 * y_1))), np.log((np.sqrt(s_h) - p*np.exp(-y_1))/p)]\n",
    "    \n",
    "def opts0(y_1,p,i,iset):\n",
    "    return {'epsrel' : 0.05}\n",
    "\n",
    "def opts1(p,i,iset):\n",
    "    return {'epsrel' : 0.05}"
   ]
  },
  {
   "cell_type": "markdown",
   "id": "617a8eaa-7ebd-47a8-bf8b-9ddb2dbd4f28",
   "metadata": {},
   "source": [
    "Integration function"
   ]
  },
  {
   "cell_type": "code",
   "execution_count": 13,
   "id": "3f61c2c7-82c6-4787-b13d-9b2d39db06a7",
   "metadata": {},
   "outputs": [],
   "source": [
    "def integration_cs(pT, quarks, iset):\n",
    "    result=[]\n",
    "    for p in pT:\n",
    "        result.append(0)\n",
    "        for i in quarks:     \n",
    "                \n",
    "            integral = integrate.nquad(compton_anih_crossection, [bounds_x, bounds_y], args=(p,i,iset), opts=[opts0,opts1])\n",
    "            #print(p,i,integral)\n",
    "        \n",
    "            result[-1] += integral[0]\n",
    "    return result"
   ]
  },
  {
   "cell_type": "markdown",
   "id": "3809e99a-1cb5-4e34-a3e0-9ba30ba3d64c",
   "metadata": {},
   "source": [
    "Parallel calculating for $p+p$"
   ]
  },
  {
   "cell_type": "code",
   "execution_count": 14,
   "id": "620ed11c-b797-4b6d-bfda-2a8b68e4205a",
   "metadata": {},
   "outputs": [
    {
     "name": "stdout",
     "output_type": "stream",
     "text": [
      "1.0 -5 (0.0, 0)2.0\n",
      " -5 (0.0, 0)\n",
      "3.0 -5 (3.006555190347918e-11, 2.1340684159368843e-10)\n",
      "1.0 -4 (3.8506839800399133e-17, 3.7729189176168586e-17)\n",
      "4.0 -5 (6.04932078503469e-08, 1.4878190844999177e-08)\n",
      "3.0 -4 (4.487874231897093e-05, 2.671294770631864e-06)\n",
      "2.0 -4 (0.0013459112379767568, 6.1936656425006e-05)\n",
      "1.0 -3 (0.4290948950944508, 0.01569238213523716)\n",
      "4.0 -4 (1.9794842270814646e-06, 1.2881872920157632e-07)\n",
      "3.0 -3 (0.00011071459609886212, 6.608188480122882e-06)\n",
      "1.0 -2 (1.2440458126738876, 0.04399266650292366)\n",
      "2.0 -3 (0.00518941728531763, 0.000251118215433563)\n",
      "2.0 -2 (0.013739957768402781, 0.0005351600693121753)\n",
      "4.0 -3 (2.5334041866101186e-06, 2.0896347763966218e-07)\n",
      "1.0 -1 (1.7207368052442367, 0.08068061659859425)\n",
      "3.0 -2 (0.00039945792217672505, 2.0023187571082257e-05)\n",
      "2.0 -1 (0.019048808752319006, 0.0009202064795662845)\n",
      "4.0 -2 (1.922155082842371e-05, 1.2836249334797717e-06)\n",
      "1.0 1 (5.616345603160603, 0.21128569688540771)\n",
      "3.0 -1 (0.00046942089328256723, 2.5658405889957608e-05)\n",
      "4.0 -1 (1.6283511125192026e-05, 1.0773127266915808e-06)\n",
      "2.0 1 (0.11058004103542307, 0.0051479159005157465)\n",
      "3.0 1 (0.004674711661762358, 0.0002622892923469813)\n",
      "1.0 2 (8.822092826987287, 0.4374939422203708)\n",
      "3.0 2 (0.011171418376371926, 0.0005554418662924351)\n",
      "4.0 1 (0.0003130243694327019, 1.3562720031938219e-05)\n",
      "2.0 2 (0.22731261061190863, 0.010853397235472628)\n",
      "4.0 2 (0.0008475097444121546, 4.216273192530566e-05)\n",
      "1.0 3 (0.4791712820827124, 0.022444794119800014)\n",
      "1.0 4 (3.8506839800399133e-17, 3.7729189176168586e-17)\n",
      "1.0 5 (0.0, 0)\n",
      "3.0 3 (0.0001672454995011376, 1.0546131337151309e-05)\n",
      "2.0 3 (0.0066125353889676134, 0.00032885965137988994)\n",
      "3.0 4 (4.487874231897093e-05, 2.671294770631864e-06)\n",
      "3.0 5 (3.006555190347918e-11, 2.1340684159368843e-10)\n",
      "4.0 3 (5.367823370752542e-06, 4.1530618913371556e-07)\n",
      "2.0 4 (0.0013459112379767568, 6.1936656425006e-05)\n",
      "2.0 5 (0.0, 0)\n",
      "4.0 4 (1.9794842270814646e-06, 1.2881872920157632e-07)\n",
      "4.0 5 (6.04932078503469e-08, 1.4878190844999177e-08)\n"
     ]
    }
   ],
   "source": [
    "import multiprocess as mp\n",
    "\n",
    "Ntr = 4\n",
    "pool = mp.Pool(Ntr)\n",
    "\n",
    "hist_array = pool.starmap(integration_cs, [([1.0*i+1.0], i_, 0) for i in range(Ntr)])\n",
    "    \n",
    "pool.close()   "
   ]
  },
  {
   "cell_type": "markdown",
   "id": "cdafc8c6-7805-4867-9518-16cdfffe3a91",
   "metadata": {},
   "source": [
    "Parallel calculating for $d+d$"
   ]
  },
  {
   "cell_type": "code",
   "execution_count": 15,
   "id": "93742eac-1058-4095-be7e-ef9a6dd4fdab",
   "metadata": {},
   "outputs": [
    {
     "name": "stdout",
     "output_type": "stream",
     "text": [
      "3.02.01.0  -5 -5-5   (0.0, 0)(0.0, 0)(0.0, 0)\n",
      "\n",
      "\n",
      "1.0 -4 (0.0, 0)\n",
      "4.0 -5 (2.4866371610059994e-08, 1.4813319651105466e-08)\n",
      "3.0 -4 (3.809382114452951e-05, 2.1036257809925663e-06)\n",
      "1.0 -3 (1.116674077223018, 0.04115227461906977)\n",
      "2.0 -4 (0.0010352695639440504, 4.854237312277893e-05)\n",
      "4.0 -4 (1.897429916423381e-06, 1.335075405719574e-07)\n",
      "3.0 -3 (0.00038370324756938215, 1.6562200294571264e-05)\n",
      "1.0 -2 (1.6527167732760448, 0.07187313730552479)\n",
      "4.0 -3 (2.2644549920355457e-05, 1.2153052088970467e-06)\n",
      "2.0 -3 (0.011498850784646507, 0.0004052328555092539)\n",
      "4.0 -2 (2.1710944048188205e-05, 1.0234636474930845e-06)\n",
      "1.0 -1 (1.6527167732760448, 0.07187313730552479)\n",
      "3.0 -2 (0.0003853254484503791, 1.8793503752811232e-05)\n",
      "4.0 -1 (2.1710944048188205e-05, 1.0234636474930845e-06)\n",
      "2.0 -2 (0.013623315805826725, 0.0004661515816343168)\n",
      "1.0 1 (8.356757831024067, 0.21794269300878177)\n",
      "4.0 1 (0.0005320092011623957, 2.712057795124634e-05)\n",
      "3.0 -1 (0.0003853254484503791, 1.8793503752811232e-05)\n",
      "4.0 2 (0.0005320092011623957, 2.712057795124634e-05)\n",
      "1.0 2 (8.356757831024067, 0.21794269300878177)\n",
      "2.0 -1 (0.013623315805826725, 0.0004661515816343168)\n",
      "3.0 1 (0.007322435987738549, 0.0003622765858364604)\n",
      "4.0 3 (2.2644550034391997e-05, 1.2153059776489128e-06)\n",
      "3.0 2 (0.007322435987738549, 0.0003622765858364604)\n",
      "1.0 3 (1.1166740740553966, 0.04115229267314983)\n",
      "1.0 4 (0.0, 0)\n",
      "1.0 5 (0.0, 0)\n",
      "2.0 1 (0.15699821857533908, 0.0056733276978830315)\n",
      "4.0 4 (1.897429916423381e-06, 1.335075405719574e-07)\n",
      "4.0 5 (2.486637161005993e-08, 1.4813319651105466e-08)\n",
      "3.0 3 (0.00038370324717014356, 1.6562319897502732e-05)\n",
      "2.0 2 (0.15699821857533908, 0.0056733276978830315)\n",
      "3.0 4 (3.809382114452951e-05, 2.1036257809925663e-06)\n",
      "3.0 5 (0.0, 0)\n",
      "2.0 3 (0.011498850779230666, 0.0004052328559754799)\n",
      "2.0 4 (0.0010352695639440504, 4.854237312277893e-05)\n",
      "2.0 5 (0.0, 0)\n"
     ]
    }
   ],
   "source": [
    "pool_dd = mp.Pool(Ntr)\n",
    "\n",
    "hist_array_dd = pool_dd.starmap(integration_cs, [([1.0*i+1.0], i_, 1) for i in range(Ntr)])\n",
    "    \n",
    "pool.close()   "
   ]
  },
  {
   "cell_type": "markdown",
   "id": "4ccbb704-6945-43ee-8029-8d07405066bb",
   "metadata": {},
   "source": [
    "Factors"
   ]
  },
  {
   "cell_type": "code",
   "execution_count": 18,
   "id": "a300de9d-3b36-4699-939b-f5882dd57477",
   "metadata": {},
   "outputs": [
    {
     "name": "stdout",
     "output_type": "stream",
     "text": [
      "pT:1.0,2.0,3.0,4.0 [1.2152097252484704, 0.9510251849251178, 0.9517870004622941, 0.9574126587160509]\n"
     ]
    }
   ],
   "source": [
    "#print(hist_array,hist_array_dd)\n",
    "res=[]\n",
    "for ival in range(len(hist_array)):\n",
    "    res.append(hist_array_dd[ival][0]/(hist_array[ival][0]+1e-20))\n",
    "print(\"pT:1.0,2.0,3.0,4.0\",res)"
   ]
  }
 ],
 "metadata": {
  "kernelspec": {
   "display_name": "Python 3 (ipykernel)",
   "language": "python",
   "name": "python3"
  },
  "language_info": {
   "codemirror_mode": {
    "name": "ipython",
    "version": 3
   },
   "file_extension": ".py",
   "mimetype": "text/x-python",
   "name": "python",
   "nbconvert_exporter": "python",
   "pygments_lexer": "ipython3",
   "version": "3.10.6"
  }
 },
 "nbformat": 4,
 "nbformat_minor": 5
}
